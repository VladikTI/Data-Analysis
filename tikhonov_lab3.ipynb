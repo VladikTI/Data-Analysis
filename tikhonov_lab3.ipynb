{
 "cells": [
  {
   "cell_type": "code",
   "execution_count": 1,
   "id": "b1c72bff",
   "metadata": {},
   "outputs": [],
   "source": [
    "import pandas as pd\n",
    "import numpy as np\n",
    "import math"
   ]
  },
  {
   "cell_type": "code",
   "execution_count": 63,
   "id": "70204784",
   "metadata": {},
   "outputs": [],
   "source": [
    "df = pd.DataFrame({'year': [2011, 2012, 2013, 2014, 2015, 2016, 2017, 2018, 2019, 2020, 2021, 2022],\n",
    "                   'crime': [2404.8, 2303.2, 2206.2, 2190.6, 2388.5, 2160.1, 2058.5, 1991.5, 2024.3, 2044.2, 2004.4, 1966.8]})"
   ]
  },
  {
   "cell_type": "code",
   "execution_count": 64,
   "id": "8bfc1b6b",
   "metadata": {},
   "outputs": [
    {
     "data": {
      "text/html": [
       "<div>\n",
       "<style scoped>\n",
       "    .dataframe tbody tr th:only-of-type {\n",
       "        vertical-align: middle;\n",
       "    }\n",
       "\n",
       "    .dataframe tbody tr th {\n",
       "        vertical-align: top;\n",
       "    }\n",
       "\n",
       "    .dataframe thead th {\n",
       "        text-align: right;\n",
       "    }\n",
       "</style>\n",
       "<table border=\"1\" class=\"dataframe\">\n",
       "  <thead>\n",
       "    <tr style=\"text-align: right;\">\n",
       "      <th></th>\n",
       "      <th>year</th>\n",
       "      <th>crime</th>\n",
       "    </tr>\n",
       "  </thead>\n",
       "  <tbody>\n",
       "    <tr>\n",
       "      <th>0</th>\n",
       "      <td>2011</td>\n",
       "      <td>2404.8</td>\n",
       "    </tr>\n",
       "    <tr>\n",
       "      <th>1</th>\n",
       "      <td>2012</td>\n",
       "      <td>2303.2</td>\n",
       "    </tr>\n",
       "    <tr>\n",
       "      <th>2</th>\n",
       "      <td>2013</td>\n",
       "      <td>2206.2</td>\n",
       "    </tr>\n",
       "    <tr>\n",
       "      <th>3</th>\n",
       "      <td>2014</td>\n",
       "      <td>2190.6</td>\n",
       "    </tr>\n",
       "    <tr>\n",
       "      <th>4</th>\n",
       "      <td>2015</td>\n",
       "      <td>2388.5</td>\n",
       "    </tr>\n",
       "    <tr>\n",
       "      <th>5</th>\n",
       "      <td>2016</td>\n",
       "      <td>2160.1</td>\n",
       "    </tr>\n",
       "    <tr>\n",
       "      <th>6</th>\n",
       "      <td>2017</td>\n",
       "      <td>2058.5</td>\n",
       "    </tr>\n",
       "    <tr>\n",
       "      <th>7</th>\n",
       "      <td>2018</td>\n",
       "      <td>1991.5</td>\n",
       "    </tr>\n",
       "    <tr>\n",
       "      <th>8</th>\n",
       "      <td>2019</td>\n",
       "      <td>2024.3</td>\n",
       "    </tr>\n",
       "    <tr>\n",
       "      <th>9</th>\n",
       "      <td>2020</td>\n",
       "      <td>2044.2</td>\n",
       "    </tr>\n",
       "    <tr>\n",
       "      <th>10</th>\n",
       "      <td>2021</td>\n",
       "      <td>2004.4</td>\n",
       "    </tr>\n",
       "    <tr>\n",
       "      <th>11</th>\n",
       "      <td>2022</td>\n",
       "      <td>1966.8</td>\n",
       "    </tr>\n",
       "  </tbody>\n",
       "</table>\n",
       "</div>"
      ],
      "text/plain": [
       "    year   crime\n",
       "0   2011  2404.8\n",
       "1   2012  2303.2\n",
       "2   2013  2206.2\n",
       "3   2014  2190.6\n",
       "4   2015  2388.5\n",
       "5   2016  2160.1\n",
       "6   2017  2058.5\n",
       "7   2018  1991.5\n",
       "8   2019  2024.3\n",
       "9   2020  2044.2\n",
       "10  2021  2004.4\n",
       "11  2022  1966.8"
      ]
     },
     "execution_count": 64,
     "metadata": {},
     "output_type": "execute_result"
    }
   ],
   "source": [
    "df"
   ]
  },
  {
   "cell_type": "code",
   "execution_count": 65,
   "id": "4a9e38a1",
   "metadata": {},
   "outputs": [],
   "source": [
    "#Абсолютный прирост, темп роста, темп прироста"
   ]
  },
  {
   "cell_type": "code",
   "execution_count": 66,
   "id": "4089a704",
   "metadata": {},
   "outputs": [],
   "source": [
    "#Базисная система"
   ]
  },
  {
   "cell_type": "code",
   "execution_count": 67,
   "id": "51685718",
   "metadata": {},
   "outputs": [
    {
     "data": {
      "text/plain": [
       "2404.8"
      ]
     },
     "execution_count": 67,
     "metadata": {},
     "output_type": "execute_result"
    }
   ],
   "source": [
    "y0 = df.crime[0]\n",
    "y0"
   ]
  },
  {
   "cell_type": "code",
   "execution_count": 68,
   "id": "82535326",
   "metadata": {},
   "outputs": [
    {
     "name": "stdout",
     "output_type": "stream",
     "text": [
      "абсолютный прирост на 2012 год составялет -101\n",
      "абсолютный прирост на 2013 год составялет -198\n",
      "абсолютный прирост на 2014 год составялет -214\n",
      "абсолютный прирост на 2015 год составялет -16\n",
      "абсолютный прирост на 2016 год составялет -244\n",
      "абсолютный прирост на 2017 год составялет -346\n",
      "абсолютный прирост на 2018 год составялет -413\n",
      "абсолютный прирост на 2019 год составялет -380\n",
      "абсолютный прирост на 2020 год составялет -360\n",
      "абсолютный прирост на 2021 год составялет -400\n",
      "абсолютный прирост на 2022 год составялет -438\n"
     ]
    }
   ],
   "source": [
    "for i in range(1, len(df.crime), 1):\n",
    "    print(\"абсолютный прирост на %d год составялет %d\" %(df.year[i], df.crime[i] - y0))"
   ]
  },
  {
   "cell_type": "code",
   "execution_count": 69,
   "id": "bda048a3",
   "metadata": {},
   "outputs": [
    {
     "name": "stdout",
     "output_type": "stream",
     "text": [
      "темп роста на 2012 год составялет 95.775116%\n",
      "темп роста на 2013 год составялет 91.741517%\n",
      "темп роста на 2014 год составялет 91.092814%\n",
      "темп роста на 2015 год составялет 99.322189%\n",
      "темп роста на 2016 год составялет 89.824518%\n",
      "темп роста на 2017 год составялет 85.599634%\n",
      "темп роста на 2018 год составялет 82.813540%\n",
      "темп роста на 2019 год составялет 84.177478%\n",
      "темп роста на 2020 год составялет 85.004990%\n",
      "темп роста на 2021 год составялет 83.349967%\n",
      "темп роста на 2022 год составялет 81.786427%\n"
     ]
    }
   ],
   "source": [
    "for i in range(1, len(df.crime), 1):\n",
    "    print(\"темп роста на %d год составялет %f\" %(df.year[i], df.crime[i] / y0 * 100) + \"%\")"
   ]
  },
  {
   "cell_type": "code",
   "execution_count": 70,
   "id": "5ab0b958",
   "metadata": {},
   "outputs": [
    {
     "name": "stdout",
     "output_type": "stream",
     "text": [
      "темп прироста на 2012 год составялет -4.224884%\n",
      "темп прироста на 2013 год составялет -8.258483%\n",
      "темп прироста на 2014 год составялет -8.907186%\n",
      "темп прироста на 2015 год составялет -0.677811%\n",
      "темп прироста на 2016 год составялет -10.175482%\n",
      "темп прироста на 2017 год составялет -14.400366%\n",
      "темп прироста на 2018 год составялет -17.186460%\n",
      "темп прироста на 2019 год составялет -15.822522%\n",
      "темп прироста на 2020 год составялет -14.995010%\n",
      "темп прироста на 2021 год составялет -16.650033%\n",
      "темп прироста на 2022 год составялет -18.213573%\n"
     ]
    }
   ],
   "source": [
    "for i in range(1, len(df.crime), 1):\n",
    "    print(\"темп прироста на %d год составялет %f\" %(df.year[i], df.crime[i] / y0 * 100 - 100) + \"%\")"
   ]
  },
  {
   "cell_type": "code",
   "execution_count": 71,
   "id": "1c286ded",
   "metadata": {},
   "outputs": [],
   "source": [
    "#Цепная система"
   ]
  },
  {
   "cell_type": "code",
   "execution_count": 72,
   "id": "64cfb3d6",
   "metadata": {},
   "outputs": [
    {
     "name": "stdout",
     "output_type": "stream",
     "text": [
      "абсолютный прирост на 2012 год составялет -101\n",
      "абсолютный прирост на 2013 год составялет -97\n",
      "абсолютный прирост на 2014 год составялет -15\n",
      "абсолютный прирост на 2015 год составялет 197\n",
      "абсолютный прирост на 2016 год составялет -228\n",
      "абсолютный прирост на 2017 год составялет -101\n",
      "абсолютный прирост на 2018 год составялет -67\n",
      "абсолютный прирост на 2019 год составялет 32\n",
      "абсолютный прирост на 2020 год составялет 19\n",
      "абсолютный прирост на 2021 год составялет -39\n",
      "абсолютный прирост на 2022 год составялет -37\n"
     ]
    }
   ],
   "source": [
    "for i in range(1, len(df.crime), 1):\n",
    "    print(\"абсолютный прирост на %d год составялет %d\" %(df.year[i], df.crime[i] - df.crime[i-1]))"
   ]
  },
  {
   "cell_type": "code",
   "execution_count": 73,
   "id": "8ef889be",
   "metadata": {},
   "outputs": [
    {
     "name": "stdout",
     "output_type": "stream",
     "text": [
      "темп роста на 2012 год составялет 95.775116%\n",
      "темп роста на 2013 год составялет 95.788468%\n",
      "темп роста на 2014 год составялет 99.292902%\n",
      "темп роста на 2015 год составялет 109.034055%\n",
      "темп роста на 2016 год составялет 90.437513%\n",
      "темп роста на 2017 год составялет 95.296514%\n",
      "темп роста на 2018 год составялет 96.745203%\n",
      "темп роста на 2019 год составялет 101.647000%\n",
      "темп роста на 2020 год составялет 100.983056%\n",
      "темп роста на 2021 год составялет 98.053028%\n",
      "темп роста на 2022 год составялет 98.124127%\n"
     ]
    }
   ],
   "source": [
    "for i in range(1, len(df.crime), 1):\n",
    "    print(\"темп роста на %d год составялет %f\" %(df.year[i], df.crime[i] / df.crime[i-1] * 100) + \"%\")"
   ]
  },
  {
   "cell_type": "code",
   "execution_count": 74,
   "id": "86ef89cf",
   "metadata": {},
   "outputs": [
    {
     "name": "stdout",
     "output_type": "stream",
     "text": [
      "темп прироста на 2012 год составялет -4.224884%\n",
      "темп прироста на 2013 год составялет -4.211532%\n",
      "темп прироста на 2014 год составялет -0.707098%\n",
      "темп прироста на 2015 год составялет 9.034055%\n",
      "темп прироста на 2016 год составялет -9.562487%\n",
      "темп прироста на 2017 год составялет -4.703486%\n",
      "темп прироста на 2018 год составялет -3.254797%\n",
      "темп прироста на 2019 год составялет 1.647000%\n",
      "темп прироста на 2020 год составялет 0.983056%\n",
      "темп прироста на 2021 год составялет -1.946972%\n",
      "темп прироста на 2022 год составялет -1.875873%\n"
     ]
    }
   ],
   "source": [
    "for i in range(1, len(df.crime), 1):\n",
    "    print(\"темп прироста на %d год составялет %f\" %(df.year[i], df.crime[i] / df.crime[i-1] * 100 - 100) + \"%\")"
   ]
  },
  {
   "cell_type": "code",
   "execution_count": 117,
   "id": "f0fe16c5",
   "metadata": {},
   "outputs": [
    {
     "data": {
      "text/html": [
       "<div>\n",
       "<style scoped>\n",
       "    .dataframe tbody tr th:only-of-type {\n",
       "        vertical-align: middle;\n",
       "    }\n",
       "\n",
       "    .dataframe tbody tr th {\n",
       "        vertical-align: top;\n",
       "    }\n",
       "\n",
       "    .dataframe thead th {\n",
       "        text-align: right;\n",
       "    }\n",
       "</style>\n",
       "<table border=\"1\" class=\"dataframe\">\n",
       "  <thead>\n",
       "    <tr style=\"text-align: right;\">\n",
       "      <th></th>\n",
       "      <th>year</th>\n",
       "      <th>crime</th>\n",
       "      <th>time</th>\n",
       "      <th>time^2</th>\n",
       "      <th>time * crime</th>\n",
       "    </tr>\n",
       "  </thead>\n",
       "  <tbody>\n",
       "    <tr>\n",
       "      <th>0</th>\n",
       "      <td>2011</td>\n",
       "      <td>2404.8</td>\n",
       "      <td>1.0</td>\n",
       "      <td>1.0</td>\n",
       "      <td>2404.8</td>\n",
       "    </tr>\n",
       "    <tr>\n",
       "      <th>1</th>\n",
       "      <td>2012</td>\n",
       "      <td>2303.2</td>\n",
       "      <td>2.0</td>\n",
       "      <td>4.0</td>\n",
       "      <td>4606.4</td>\n",
       "    </tr>\n",
       "    <tr>\n",
       "      <th>2</th>\n",
       "      <td>2013</td>\n",
       "      <td>2206.2</td>\n",
       "      <td>3.0</td>\n",
       "      <td>9.0</td>\n",
       "      <td>6618.6</td>\n",
       "    </tr>\n",
       "    <tr>\n",
       "      <th>3</th>\n",
       "      <td>2014</td>\n",
       "      <td>2190.6</td>\n",
       "      <td>4.0</td>\n",
       "      <td>16.0</td>\n",
       "      <td>8762.4</td>\n",
       "    </tr>\n",
       "    <tr>\n",
       "      <th>4</th>\n",
       "      <td>2015</td>\n",
       "      <td>2388.5</td>\n",
       "      <td>5.0</td>\n",
       "      <td>25.0</td>\n",
       "      <td>11942.5</td>\n",
       "    </tr>\n",
       "    <tr>\n",
       "      <th>5</th>\n",
       "      <td>2016</td>\n",
       "      <td>2160.1</td>\n",
       "      <td>6.0</td>\n",
       "      <td>36.0</td>\n",
       "      <td>12960.6</td>\n",
       "    </tr>\n",
       "    <tr>\n",
       "      <th>6</th>\n",
       "      <td>2017</td>\n",
       "      <td>2058.5</td>\n",
       "      <td>7.0</td>\n",
       "      <td>49.0</td>\n",
       "      <td>14409.5</td>\n",
       "    </tr>\n",
       "    <tr>\n",
       "      <th>7</th>\n",
       "      <td>2018</td>\n",
       "      <td>1991.5</td>\n",
       "      <td>8.0</td>\n",
       "      <td>64.0</td>\n",
       "      <td>15932.0</td>\n",
       "    </tr>\n",
       "    <tr>\n",
       "      <th>8</th>\n",
       "      <td>2019</td>\n",
       "      <td>2024.3</td>\n",
       "      <td>9.0</td>\n",
       "      <td>81.0</td>\n",
       "      <td>18218.7</td>\n",
       "    </tr>\n",
       "    <tr>\n",
       "      <th>9</th>\n",
       "      <td>2020</td>\n",
       "      <td>2044.2</td>\n",
       "      <td>10.0</td>\n",
       "      <td>100.0</td>\n",
       "      <td>20442.0</td>\n",
       "    </tr>\n",
       "    <tr>\n",
       "      <th>10</th>\n",
       "      <td>2021</td>\n",
       "      <td>2004.4</td>\n",
       "      <td>11.0</td>\n",
       "      <td>121.0</td>\n",
       "      <td>22048.4</td>\n",
       "    </tr>\n",
       "  </tbody>\n",
       "</table>\n",
       "</div>"
      ],
      "text/plain": [
       "    year   crime  time  time^2  time * crime\n",
       "0   2011  2404.8   1.0     1.0        2404.8\n",
       "1   2012  2303.2   2.0     4.0        4606.4\n",
       "2   2013  2206.2   3.0     9.0        6618.6\n",
       "3   2014  2190.6   4.0    16.0        8762.4\n",
       "4   2015  2388.5   5.0    25.0       11942.5\n",
       "5   2016  2160.1   6.0    36.0       12960.6\n",
       "6   2017  2058.5   7.0    49.0       14409.5\n",
       "7   2018  1991.5   8.0    64.0       15932.0\n",
       "8   2019  2024.3   9.0    81.0       18218.7\n",
       "9   2020  2044.2  10.0   100.0       20442.0\n",
       "10  2021  2004.4  11.0   121.0       22048.4"
      ]
     },
     "execution_count": 117,
     "metadata": {},
     "output_type": "execute_result"
    }
   ],
   "source": [
    "df = df[0:11]\n",
    "df"
   ]
  },
  {
   "cell_type": "code",
   "execution_count": 75,
   "id": "136991a1",
   "metadata": {},
   "outputs": [],
   "source": [
    "#Средний уровень ряда "
   ]
  },
  {
   "cell_type": "code",
   "execution_count": 132,
   "id": "2de6d148",
   "metadata": {},
   "outputs": [
    {
     "data": {
      "text/plain": [
       "2161.4818181818187"
      ]
     },
     "execution_count": 132,
     "metadata": {},
     "output_type": "execute_result"
    }
   ],
   "source": [
    "y_mean = df.crime.mean()\n",
    "y_mean"
   ]
  },
  {
   "cell_type": "code",
   "execution_count": 77,
   "id": "8a1d244a",
   "metadata": {},
   "outputs": [],
   "source": [
    "#Средние показатели изменения уровня ряда"
   ]
  },
  {
   "cell_type": "code",
   "execution_count": 78,
   "id": "b4b4f753",
   "metadata": {},
   "outputs": [],
   "source": [
    "#Средний абсолютный прирост"
   ]
  },
  {
   "cell_type": "code",
   "execution_count": 130,
   "id": "3645e19e",
   "metadata": {},
   "outputs": [
    {
     "data": {
      "text/plain": [
       "-40.040000000000006"
      ]
     },
     "execution_count": 130,
     "metadata": {},
     "output_type": "execute_result"
    }
   ],
   "source": [
    "n = len(df.crime)\n",
    "dy_mean = (df.crime[n-1] - df.crime[0])/(n-1)\n",
    "dy_mean"
   ]
  },
  {
   "cell_type": "code",
   "execution_count": 125,
   "id": "ac54c825",
   "metadata": {},
   "outputs": [],
   "source": [
    "#Средний темп роста"
   ]
  },
  {
   "cell_type": "code",
   "execution_count": 131,
   "id": "d9ae75e7",
   "metadata": {},
   "outputs": [
    {
     "data": {
      "text/plain": [
       "98.19526422636717"
      ]
     },
     "execution_count": 131,
     "metadata": {},
     "output_type": "execute_result"
    }
   ],
   "source": [
    "T_r = (df.crime[n-1] / df.crime[0]) ** (1/(n-1)) * 100\n",
    "T_r"
   ]
  },
  {
   "cell_type": "code",
   "execution_count": 82,
   "id": "9eabf4c2",
   "metadata": {},
   "outputs": [],
   "source": [
    "#Средний темп прироста"
   ]
  },
  {
   "cell_type": "code",
   "execution_count": 129,
   "id": "be5b8698",
   "metadata": {},
   "outputs": [
    {
     "data": {
      "text/plain": [
       "-1.7889190264593395"
      ]
     },
     "execution_count": 129,
     "metadata": {},
     "output_type": "execute_result"
    }
   ],
   "source": [
    "T_pr = T_r - 100\n",
    "T_pr"
   ]
  },
  {
   "cell_type": "code",
   "execution_count": 111,
   "id": "2a2143dd",
   "metadata": {},
   "outputs": [],
   "source": [
    "y = 1966.8"
   ]
  },
  {
   "cell_type": "code",
   "execution_count": 84,
   "id": "fb0a533e",
   "metadata": {},
   "outputs": [],
   "source": [
    "#прогноз на 2022 год по среднему абсолютному приросту"
   ]
  },
  {
   "cell_type": "code",
   "execution_count": 127,
   "id": "ab77149c",
   "metadata": {},
   "outputs": [
    {
     "data": {
      "text/plain": [
       "(1964.3600000000001, -0.12421348429003985)"
      ]
     },
     "execution_count": 127,
     "metadata": {},
     "output_type": "execute_result"
    }
   ],
   "source": [
    "y_2022_1 = df.crime[n-1] + dy_mean\n",
    "y_2022_1, (y_2022_1 - y) / y_2022_1 * 100"
   ]
  },
  {
   "cell_type": "code",
   "execution_count": 86,
   "id": "28716a8f",
   "metadata": {},
   "outputs": [],
   "source": [
    "#Прогнозирование по среднему темпу роста"
   ]
  },
  {
   "cell_type": "code",
   "execution_count": 128,
   "id": "246b118a",
   "metadata": {},
   "outputs": [
    {
     "data": {
      "text/plain": [
       "(1968.2258761533037, 0.07258731359342287)"
      ]
     },
     "execution_count": 128,
     "metadata": {},
     "output_type": "execute_result"
    }
   ],
   "source": [
    "y_2022_2 = df.crime[n-1] * ((df.crime[n-1]/df.crime[0])**(1/(n-1)))\n",
    "y_2022_2, (y_2022_2 - y) / y_2022_1 * 100"
   ]
  },
  {
   "cell_type": "code",
   "execution_count": 88,
   "id": "83a02430",
   "metadata": {},
   "outputs": [],
   "source": [
    "#Прогнозирование методом аналитического выравнивания"
   ]
  },
  {
   "cell_type": "code",
   "execution_count": 95,
   "id": "da6f72c0",
   "metadata": {},
   "outputs": [
    {
     "data": {
      "text/html": [
       "<div>\n",
       "<style scoped>\n",
       "    .dataframe tbody tr th:only-of-type {\n",
       "        vertical-align: middle;\n",
       "    }\n",
       "\n",
       "    .dataframe tbody tr th {\n",
       "        vertical-align: top;\n",
       "    }\n",
       "\n",
       "    .dataframe thead th {\n",
       "        text-align: right;\n",
       "    }\n",
       "</style>\n",
       "<table border=\"1\" class=\"dataframe\">\n",
       "  <thead>\n",
       "    <tr style=\"text-align: right;\">\n",
       "      <th></th>\n",
       "      <th>year</th>\n",
       "      <th>crime</th>\n",
       "      <th>time</th>\n",
       "      <th>time^2</th>\n",
       "      <th>time * crime</th>\n",
       "    </tr>\n",
       "  </thead>\n",
       "  <tbody>\n",
       "    <tr>\n",
       "      <th>0</th>\n",
       "      <td>2011</td>\n",
       "      <td>2404.8</td>\n",
       "      <td>1.0</td>\n",
       "      <td>1.0</td>\n",
       "      <td>2404.8</td>\n",
       "    </tr>\n",
       "    <tr>\n",
       "      <th>1</th>\n",
       "      <td>2012</td>\n",
       "      <td>2303.2</td>\n",
       "      <td>2.0</td>\n",
       "      <td>4.0</td>\n",
       "      <td>4606.4</td>\n",
       "    </tr>\n",
       "    <tr>\n",
       "      <th>2</th>\n",
       "      <td>2013</td>\n",
       "      <td>2206.2</td>\n",
       "      <td>3.0</td>\n",
       "      <td>9.0</td>\n",
       "      <td>6618.6</td>\n",
       "    </tr>\n",
       "    <tr>\n",
       "      <th>3</th>\n",
       "      <td>2014</td>\n",
       "      <td>2190.6</td>\n",
       "      <td>4.0</td>\n",
       "      <td>16.0</td>\n",
       "      <td>8762.4</td>\n",
       "    </tr>\n",
       "    <tr>\n",
       "      <th>4</th>\n",
       "      <td>2015</td>\n",
       "      <td>2388.5</td>\n",
       "      <td>5.0</td>\n",
       "      <td>25.0</td>\n",
       "      <td>11942.5</td>\n",
       "    </tr>\n",
       "    <tr>\n",
       "      <th>5</th>\n",
       "      <td>2016</td>\n",
       "      <td>2160.1</td>\n",
       "      <td>6.0</td>\n",
       "      <td>36.0</td>\n",
       "      <td>12960.6</td>\n",
       "    </tr>\n",
       "    <tr>\n",
       "      <th>6</th>\n",
       "      <td>2017</td>\n",
       "      <td>2058.5</td>\n",
       "      <td>7.0</td>\n",
       "      <td>49.0</td>\n",
       "      <td>14409.5</td>\n",
       "    </tr>\n",
       "    <tr>\n",
       "      <th>7</th>\n",
       "      <td>2018</td>\n",
       "      <td>1991.5</td>\n",
       "      <td>8.0</td>\n",
       "      <td>64.0</td>\n",
       "      <td>15932.0</td>\n",
       "    </tr>\n",
       "    <tr>\n",
       "      <th>8</th>\n",
       "      <td>2019</td>\n",
       "      <td>2024.3</td>\n",
       "      <td>9.0</td>\n",
       "      <td>81.0</td>\n",
       "      <td>18218.7</td>\n",
       "    </tr>\n",
       "    <tr>\n",
       "      <th>9</th>\n",
       "      <td>2020</td>\n",
       "      <td>2044.2</td>\n",
       "      <td>10.0</td>\n",
       "      <td>100.0</td>\n",
       "      <td>20442.0</td>\n",
       "    </tr>\n",
       "    <tr>\n",
       "      <th>10</th>\n",
       "      <td>2021</td>\n",
       "      <td>2004.4</td>\n",
       "      <td>11.0</td>\n",
       "      <td>121.0</td>\n",
       "      <td>22048.4</td>\n",
       "    </tr>\n",
       "  </tbody>\n",
       "</table>\n",
       "</div>"
      ],
      "text/plain": [
       "    year   crime  time  time^2  time * crime\n",
       "0   2011  2404.8   1.0     1.0        2404.8\n",
       "1   2012  2303.2   2.0     4.0        4606.4\n",
       "2   2013  2206.2   3.0     9.0        6618.6\n",
       "3   2014  2190.6   4.0    16.0        8762.4\n",
       "4   2015  2388.5   5.0    25.0       11942.5\n",
       "5   2016  2160.1   6.0    36.0       12960.6\n",
       "6   2017  2058.5   7.0    49.0       14409.5\n",
       "7   2018  1991.5   8.0    64.0       15932.0\n",
       "8   2019  2024.3   9.0    81.0       18218.7\n",
       "9   2020  2044.2  10.0   100.0       20442.0\n",
       "10  2021  2004.4  11.0   121.0       22048.4"
      ]
     },
     "execution_count": 95,
     "metadata": {},
     "output_type": "execute_result"
    }
   ],
   "source": [
    "for i in range(n):\n",
    "    df.at[i,'time'] = i + 1\n",
    "    df.at[i,'time^2'] = df['time'][i]**2\n",
    "    df.at[i,'time * crime'] = df['crime'][i] * df['time'][i]\n",
    "    \n",
    "df = df[0:n-1]\n",
    "df"
   ]
  },
  {
   "cell_type": "code",
   "execution_count": 96,
   "id": "d8820a04",
   "metadata": {},
   "outputs": [],
   "source": [
    "#y = bx + a"
   ]
  },
  {
   "cell_type": "code",
   "execution_count": 108,
   "id": "5649f5c6",
   "metadata": {},
   "outputs": [
    {
     "data": {
      "text/plain": [
       "-39.19909090909114"
      ]
     },
     "execution_count": 108,
     "metadata": {},
     "output_type": "execute_result"
    }
   ],
   "source": [
    "b = df['time * crime'].mean()\n",
    "b -= df['crime'].mean() * df['time'].mean()\n",
    "b = b /(df['time^2'].mean() - (df['time'].mean())**2)\n",
    "b"
   ]
  },
  {
   "cell_type": "code",
   "execution_count": 109,
   "id": "13b8eba1",
   "metadata": {},
   "outputs": [
    {
     "data": {
      "text/plain": [
       "2396.6763636363653"
      ]
     },
     "execution_count": 109,
     "metadata": {},
     "output_type": "execute_result"
    }
   ],
   "source": [
    "a = df['crime'].mean() - b * df['time'].mean()\n",
    "a"
   ]
  },
  {
   "cell_type": "code",
   "execution_count": 115,
   "id": "b90c1c09",
   "metadata": {},
   "outputs": [
    {
     "data": {
      "text/plain": [
       "(1926.2872727272716, -2.0621552585792595)"
      ]
     },
     "execution_count": 115,
     "metadata": {},
     "output_type": "execute_result"
    }
   ],
   "source": [
    "y_2022_3 = 12 * b + a\n",
    "y_2022_3, (y_2022_3 - y) / y_2022_1 * 100"
   ]
  },
  {
   "cell_type": "code",
   "execution_count": null,
   "id": "eecef7c9",
   "metadata": {},
   "outputs": [],
   "source": []
  }
 ],
 "metadata": {
  "kernelspec": {
   "display_name": "Python 3 (ipykernel)",
   "language": "python",
   "name": "python3"
  },
  "language_info": {
   "codemirror_mode": {
    "name": "ipython",
    "version": 3
   },
   "file_extension": ".py",
   "mimetype": "text/x-python",
   "name": "python",
   "nbconvert_exporter": "python",
   "pygments_lexer": "ipython3",
   "version": "3.9.13"
  }
 },
 "nbformat": 4,
 "nbformat_minor": 5
}
