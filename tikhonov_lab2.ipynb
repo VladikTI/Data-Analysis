{
 "cells": [
  {
   "cell_type": "code",
   "execution_count": 3,
   "id": "f8626553",
   "metadata": {},
   "outputs": [],
   "source": [
    "#1"
   ]
  },
  {
   "cell_type": "code",
   "execution_count": 30,
   "id": "608b2a6d",
   "metadata": {},
   "outputs": [],
   "source": [
    "import pandas as pd\n",
    "import numpy as np\n",
    "import math"
   ]
  },
  {
   "cell_type": "code",
   "execution_count": 5,
   "id": "deec3fc4",
   "metadata": {},
   "outputs": [],
   "source": [
    "crime_moscow = 143564\n",
    "crime_russia = 2004404"
   ]
  },
  {
   "cell_type": "code",
   "execution_count": 6,
   "id": "9f43f3d1",
   "metadata": {},
   "outputs": [],
   "source": [
    "pop_moscow = 12655050\n",
    "pop_russia = 146171015"
   ]
  },
  {
   "cell_type": "code",
   "execution_count": 7,
   "id": "fdbea5df",
   "metadata": {},
   "outputs": [],
   "source": [
    "def intensive(c, h):\n",
    "    return c * 100000 / h"
   ]
  },
  {
   "cell_type": "code",
   "execution_count": 8,
   "id": "8f9ef1f6",
   "metadata": {},
   "outputs": [],
   "source": [
    "int_moscow = intensive(crime_moscow, pop_moscow)\n",
    "int_russia = intensive(crime_russia, pop_russia)"
   ]
  },
  {
   "cell_type": "code",
   "execution_count": 9,
   "id": "cf91b5e7",
   "metadata": {},
   "outputs": [
    {
     "data": {
      "text/plain": [
       "1134.440401262737"
      ]
     },
     "execution_count": 9,
     "metadata": {},
     "output_type": "execute_result"
    }
   ],
   "source": [
    "int_moscow"
   ]
  },
  {
   "cell_type": "code",
   "execution_count": 10,
   "id": "b2b592c9",
   "metadata": {},
   "outputs": [
    {
     "data": {
      "text/plain": [
       "1371.2732308795967"
      ]
     },
     "execution_count": 10,
     "metadata": {},
     "output_type": "execute_result"
    }
   ],
   "source": [
    "int_russia"
   ]
  },
  {
   "cell_type": "code",
   "execution_count": 11,
   "id": "a989ef8b",
   "metadata": {},
   "outputs": [],
   "source": [
    "#2"
   ]
  },
  {
   "cell_type": "code",
   "execution_count": 51,
   "id": "f74234b9",
   "metadata": {},
   "outputs": [
    {
     "data": {
      "text/plain": [
       "(('Относительная численность до 14 лет 2020 год:', 931.174089068826),\n",
       " ('Относительная численность до 14 лет 2021 год:', 990.5020352781547),\n",
       " ('Относительная численность после 14 лет 2020 год:', 3906.8825910931173),\n",
       " ('Относительная численность после 14 лет 2021 год:', 3853.459972862958),\n",
       " ('Относительная численность для общего количества 2020 год',\n",
       "  4838.056680161943),\n",
       " ('Относительная численность для общего количества 2021 год',\n",
       "  4843.962008141112),\n",
       " ('Динамика до 14 лет:', 80),\n",
       " ('Динамика после 14 лет:', -110),\n",
       " ('Темп роста до 14', 105.79710144927536),\n",
       " ('Темп роста после 14', 98.10017271157167),\n",
       " ('Темп прироста до 14', 5.797101449275362),\n",
       " ('Темп прироста после 14', -1.8998272884283247),\n",
       " ('Удельный вес до 14 лет', 0.1984626135569532),\n",
       " ('Удельный вес после 14 лет', 0.8015373864430468),\n",
       " ('Сравнение:', 0.24760244115082825))"
      ]
     },
     "execution_count": 51,
     "metadata": {},
     "output_type": "execute_result"
    }
   ],
   "source": [
    "#Уровень преступности\n",
    "coef_1_below14 = 'Относительная численность до 14 лет 2020 год:',(1380/148200)*100000\n",
    "coef_2_below14 = 'Относительная численность до 14 лет 2021 год:',(1460/147400)*100000\n",
    "coef_1_above14 = 'Относительная численность после 14 лет 2020 год:',(5790/148200)*100000\n",
    "coef_2_above14 = 'Относительная численность после 14 лет 2021 год:',(5680/147400)*100000\n",
    "coef_total1= 'Относительная численность для общего количества 2020 год', (7170/148200)*100000\n",
    "coef_total2 = 'Относительная численность для общего количества 2021 год', (7140/147400)*100000\n",
    "#Динамика\n",
    "dyn1 = 'Динамика до 14 лет:',1460-1380\n",
    "dyn2 = 'Динамика после 14 лет:',5680-5790\n",
    "dyn_total = 'Общая динамика:', 147400 - 148200\n",
    "#Темп роста\n",
    "temp1 = 'Темп роста до 14',1460/1380*100\n",
    "temp2 = 'Темп роста после 14',5680/5790*100\n",
    "#Темп прироста\n",
    "pod_temp1 = 'Темп прироста до 14',(1460-1380)/1380 * 100\n",
    "pod_temp2 = 'Темп прироста после 14',(5680 - 5790)/5790 * 100\n",
    "ud1 = 'Удельный вес до 14 лет',(1460+1380)/(1380+1460+5790+5680)\n",
    "ud2 = 'Удельный вес после 14 лет',(5790+5680)/(1380+1460+5790+5680)\n",
    "sr = 'Сравнение:',ud1[1]/ud2[1]\n",
    "coef_1_below14, coef_2_below14, coef_1_above14, coef_2_above14, coef_total1, coef_total2, dyn1, dyn2, temp1, temp2, pod_temp1, pod_temp2,ud1,ud2,sr\n",
    "#Удельный вес, сравнение"
   ]
  },
  {
   "cell_type": "code",
   "execution_count": 1,
   "id": "18e9a88a",
   "metadata": {},
   "outputs": [],
   "source": [
    "#3"
   ]
  },
  {
   "cell_type": "code",
   "execution_count": 15,
   "id": "3d83898f",
   "metadata": {},
   "outputs": [],
   "source": [
    "total = 361600"
   ]
  },
  {
   "cell_type": "code",
   "execution_count": 17,
   "id": "cb66456c",
   "metadata": {},
   "outputs": [
    {
     "data": {
      "text/plain": [
       "(('об убийстве:', 11571.2),\n",
       " ('o краже:', 131260.8),\n",
       " ('o незаконных действиях с наркотическими и психотропными веществами:',\n",
       "  29651.199999999997),\n",
       " ('o грабеже:', 38329.6),\n",
       " ('об умышленном причинении тяжкого вреда:', 25312.0),\n",
       " ('o разбое:', 14464.0),\n",
       " ('o мошенничестве:', 12656.0),\n",
       " ('дела частного обвинения:', 3616.0),\n",
       " ('o неправомерном завладении транспортным средством без цели хищения:',\n",
       "  9040.0),\n",
       " ('Прочие:', 85699.2))"
      ]
     },
     "execution_count": 17,
     "metadata": {},
     "output_type": "execute_result"
    }
   ],
   "source": [
    "stat1 = 'об убийстве:', (total*3.2)/100\n",
    "stat2 = 'o краже:', (total*36.3)/100\n",
    "stat3 = 'o незаконных действиях с наркотическими и психотропными веществами:',(total*8.2)/100\n",
    "stat4 = 'o грабеже:',(total*10.6)/100\n",
    "stat5 = 'об умышленном причинении тяжкого вреда:', (total*7)/100\n",
    "stat6 = 'o разбое:',(total*4)/100\n",
    "stat7 = 'o мошенничестве:',(total*3.5)/100\n",
    "stat8 = 'дела частного обвинения:', (total*1)/100\n",
    "stat9 = 'o неправомерном завладении транспортным средством без цели хищения:', (total*2.5)/100\n",
    "stat10 = 'Прочие:',(total*23.7)/100\n",
    "stat1,stat2,stat3,stat4,stat5,stat6,stat7,stat8,stat9,stat10"
   ]
  },
  {
   "cell_type": "code",
   "execution_count": 18,
   "id": "74c5df76",
   "metadata": {},
   "outputs": [],
   "source": [
    "#4"
   ]
  },
  {
   "cell_type": "code",
   "execution_count": 28,
   "id": "b9de7b94",
   "metadata": {},
   "outputs": [
    {
     "data": {
      "text/plain": [
       "(('темп роста заготовительного цеха', 109.2),\n",
       " ('2 квартал заготовительного цеха', 13.104000000000001),\n",
       " ('темп роста кузнечного цеха', 125.0),\n",
       " ('плановое задание кузнечного цеха', 125.0),\n",
       " ('выполнение плана сборочного цеха', 92.23300970873785),\n",
       " ('1 квартал сборочного цеха', 15.789473684210527))"
      ]
     },
     "execution_count": 28,
     "metadata": {},
     "output_type": "execute_result"
    }
   ],
   "source": [
    "t1 = 'темп роста заготовительного цеха', 1.04 * 1.05 * 100\n",
    "kv2 = '2 квартал заготовительного цеха', t1[1] * 12 / 100\n",
    "t2 = 'темп роста кузнечного цеха', (20/16) * 100\n",
    "plan = 'плановое задание кузнечного цеха', t2[1] / 1\n",
    "vyp = 'выполнение плана сборочного цеха', 0.95/1.03 * 100\n",
    "sbor = '1 квартал сборочного цеха', 15 / 0.95\n",
    "t1, kv2, t2, plan, vyp, sbor\n"
   ]
  },
  {
   "cell_type": "code",
   "execution_count": 29,
   "id": "43b14cf9",
   "metadata": {},
   "outputs": [],
   "source": [
    "#5"
   ]
  },
  {
   "cell_type": "code",
   "execution_count": 33,
   "id": "23973b24",
   "metadata": {},
   "outputs": [
    {
     "data": {
      "text/plain": [
       "60.277137733417085"
      ]
     },
     "execution_count": 33,
     "metadata": {},
     "output_type": "execute_result"
    }
   ],
   "source": [
    "mean_val = math.sqrt((30**2+60**2+80**2)/3)\n",
    "mean_val"
   ]
  },
  {
   "cell_type": "code",
   "execution_count": 35,
   "id": "a808599e",
   "metadata": {},
   "outputs": [],
   "source": [
    "#6"
   ]
  },
  {
   "cell_type": "code",
   "execution_count": 37,
   "id": "c5323fd1",
   "metadata": {},
   "outputs": [
    {
     "data": {
      "text/plain": [
       "80.0"
      ]
     },
     "execution_count": 37,
     "metadata": {},
     "output_type": "execute_result"
    }
   ],
   "source": [
    "percentage = (1500*0.9+1000*0.8+500*0.5)/3000*100\n",
    "percentage"
   ]
  },
  {
   "cell_type": "code",
   "execution_count": 38,
   "id": "e4fd09ab",
   "metadata": {},
   "outputs": [],
   "source": [
    "#7"
   ]
  },
  {
   "cell_type": "code",
   "execution_count": 39,
   "id": "902f3ed4",
   "metadata": {},
   "outputs": [
    {
     "data": {
      "text/plain": [
       "98.42606244717217"
      ]
     },
     "execution_count": 39,
     "metadata": {},
     "output_type": "execute_result"
    }
   ],
   "source": [
    "mean_percentage = (6500+7300+6900+5300)/(6500/1.013+7300/0.905+6900/1.025+5300/1.019) * 100\n",
    "mean_percentage"
   ]
  },
  {
   "cell_type": "code",
   "execution_count": 40,
   "id": "4c994906",
   "metadata": {},
   "outputs": [],
   "source": [
    "#8"
   ]
  },
  {
   "cell_type": "code",
   "execution_count": 41,
   "id": "cde10a2b",
   "metadata": {},
   "outputs": [
    {
     "data": {
      "text/plain": [
       "68.57142857142857"
      ]
     },
     "execution_count": 41,
     "metadata": {},
     "output_type": "execute_result"
    }
   ],
   "source": [
    "avg_speed = 2/((1/60)+(1/80))\n",
    "avg_speed"
   ]
  },
  {
   "cell_type": "code",
   "execution_count": 42,
   "id": "38762bcb",
   "metadata": {},
   "outputs": [],
   "source": [
    "#9"
   ]
  },
  {
   "cell_type": "code",
   "execution_count": 44,
   "id": "5d3f080f",
   "metadata": {},
   "outputs": [
    {
     "data": {
      "text/plain": [
       "1.7320508075688772"
      ]
     },
     "execution_count": 44,
     "metadata": {},
     "output_type": "execute_result"
    }
   ],
   "source": [
    "avg = math.sqrt(2*1.5)\n",
    "avg"
   ]
  },
  {
   "cell_type": "code",
   "execution_count": 45,
   "id": "c2de48c5",
   "metadata": {},
   "outputs": [],
   "source": [
    "#10"
   ]
  },
  {
   "cell_type": "code",
   "execution_count": 46,
   "id": "e434f3db",
   "metadata": {},
   "outputs": [
    {
     "data": {
      "text/plain": [
       "54772.25575051661"
      ]
     },
     "execution_count": 46,
     "metadata": {},
     "output_type": "execute_result"
    }
   ],
   "source": [
    "mean_geom = math.sqrt(3000*1000000)\n",
    "mean_geom"
   ]
  },
  {
   "cell_type": "code",
   "execution_count": 47,
   "id": "d3c5f5fd",
   "metadata": {},
   "outputs": [],
   "source": [
    "#11"
   ]
  },
  {
   "cell_type": "code",
   "execution_count": 53,
   "id": "7beb4cd7",
   "metadata": {},
   "outputs": [
    {
     "data": {
      "text/plain": [
       "463.6363636363636"
      ]
     },
     "execution_count": 53,
     "metadata": {},
     "output_type": "execute_result"
    }
   ],
   "source": [
    "final = (500/2 + 500*3 + 450*5 + 440*2 + 440/2) / 11\n",
    "final"
   ]
  },
  {
   "cell_type": "code",
   "execution_count": 49,
   "id": "1c76b427",
   "metadata": {},
   "outputs": [],
   "source": [
    "#12"
   ]
  },
  {
   "cell_type": "code",
   "execution_count": 50,
   "id": "dec5bb9d",
   "metadata": {},
   "outputs": [
    {
     "data": {
      "text/plain": [
       "76.26833333333333"
      ]
     },
     "execution_count": 50,
     "metadata": {},
     "output_type": "execute_result"
    }
   ],
   "source": [
    "mean_valuta = (68.35/2 + 72.77 + 80.62 + 82.48/2)/3\n",
    "mean_valuta"
   ]
  }
 ],
 "metadata": {
  "kernelspec": {
   "display_name": "Python 3 (ipykernel)",
   "language": "python",
   "name": "python3"
  },
  "language_info": {
   "codemirror_mode": {
    "name": "ipython",
    "version": 3
   },
   "file_extension": ".py",
   "mimetype": "text/x-python",
   "name": "python",
   "nbconvert_exporter": "python",
   "pygments_lexer": "ipython3",
   "version": "3.9.13"
  }
 },
 "nbformat": 4,
 "nbformat_minor": 5
}
