{
 "cells": [
  {
   "cell_type": "code",
   "execution_count": 214,
   "id": "fa13b5ab",
   "metadata": {},
   "outputs": [],
   "source": [
    "from analytics_toolbox_api.network.api import Api # сама либа с api\n",
    "from analytics_toolbox_api.common.operations import Select # часть, которая отвечает за запросы типа Select\n",
    "from analytics_toolbox_api.templates.pipeline_templates import print_queues  #часть, которая отвечает за то, чтобы можно было посмотреть, какая сейчас загрузка очередей\n",
    "from analytics_toolbox_api.common.pipeline import Pipeline\n",
    "from analytics_toolbox_api.common.operations import Journal\n",
    "from analytics_toolbox_api.common.operations import SelectById, AggregationById, ABById\n",
    "\n",
    "#создаем себе клиент, с помощью которого будем ходить\n",
    "client = Api('v.tikhonov', '1LKY!PcLV$',env='vk_services')"
   ]
  },
  {
   "cell_type": "code",
   "execution_count": 104,
   "id": "ea9e50e2",
   "metadata": {},
   "outputs": [],
   "source": [
    "from time import sleep\n",
    "from analytics_toolbox_api.templates.pipeline_templates import print_queues\n",
    "from IPython.display import clear_output\n",
    "\n",
    "\n",
    "def get_df_status(select, sleep_sec=5):\n",
    "    while select.status()!='finished':\n",
    "        print(select.status())\n",
    "        print_queues(client)\n",
    "        sleep(sleep_sec)\n",
    "        clear_output(wait=True)"
   ]
  },
  {
   "cell_type": "code",
   "execution_count": 4,
   "id": "09183b61",
   "metadata": {},
   "outputs": [],
   "source": [
    "sql = '''\n",
    "WITH t1 AS (SELECT user_id\n",
    "FROM community_actions\n",
    "WHERE dt = '$dt'\n",
    "AND user_role IN ('ADMIN', 'CREATOR', 'MODERATOR', 'EDITOR')\n",
    "AND event = 'PUBLISH_POST'),\n",
    "\n",
    "t2 AS (\n",
    "SELECT \n",
    "    user_id, \n",
    "    attachments.type, \n",
    "    attachments.owner_id, \n",
    "    attachments.item_id\n",
    "FROM\n",
    "    (SELECT \n",
    "        user_id, \n",
    "        attachments.type, \n",
    "        attachments.owner_id, \n",
    "        attachments.item_id\n",
    "    FROM posting\n",
    "    WHERE dt = '$dt'\n",
    "    AND event_type = 'post_now'\n",
    "    AND owner_id < 0\n",
    "    AND has(attachments.type, 'photo'))\n",
    "ARRAY JOIN attachments.type, attachments.owner_id, attachments.item_id\n",
    "WHERE attachments.type = 'photo'\n",
    "),\n",
    "\n",
    "t4 AS(\n",
    "SELECT user_id, photo_id \n",
    "FROM upload_photo \n",
    "WHERE dt = '$dt'\n",
    "GROUP BY user_id, photo_id \n",
    ")\n",
    "\n",
    "SELECT count()\n",
    "FROM t1\n",
    "GLOBAL ANY LEFT JOIN t2 USING user_id\n",
    "'''"
   ]
  },
  {
   "cell_type": "code",
   "execution_count": 109,
   "id": "a31abb28",
   "metadata": {},
   "outputs": [],
   "source": [
    "### кол-во фото из фото сообществ"
   ]
  },
  {
   "cell_type": "code",
   "execution_count": 5,
   "id": "5ac4f8cd",
   "metadata": {},
   "outputs": [],
   "source": [
    "big_sql = '''\n",
    "WITH t1 AS(\n",
    "SELECT \n",
    "        user_id, \n",
    "        attachments.type, \n",
    "        attachments.owner_id, \n",
    "        attachments.item_id\n",
    "    FROM\n",
    "        (SELECT \n",
    "            user_id,\n",
    "            attachments.type, \n",
    "            attachments.owner_id, \n",
    "            attachments.item_id\n",
    "        FROM posting\n",
    "        WHERE dt = yesterday()\n",
    "        AND event_type = 'post_now'\n",
    "        AND owner_id < 0\n",
    "        AND has(attachments.type, 'photo'))\n",
    "    ARRAY JOIN attachments.type, attachments.owner_id, attachments.item_id\n",
    "    WHERE attachments.type = 'photo'\n",
    "    and intHash64(attachments.owner_id) % $shards_num = $shard\n",
    "),\n",
    "\n",
    "t2 AS (\n",
    "SELECT owner_id, photo_id \n",
    "FROM upload_photo \n",
    "WHERE dt = '$dt'\n",
    "and intHash64(owner_id) % $shards_num = $shard\n",
    "GROUP BY owner_id, photo_id \n",
    ")\n",
    "\n",
    "SELECT user_id\n",
    "FROM t1\n",
    "GLOBAL ANY LEFT JOIN t2 ON t1.attachments.owner_id = t2.owner_id AND t1.attachments.item_id = t2.photo_id\n",
    "'''"
   ]
  },
  {
   "cell_type": "code",
   "execution_count": 19,
   "id": "6ba52c2b",
   "metadata": {},
   "outputs": [],
   "source": [
    "UP_select = Select(client, big_sql, granularity=1, dates = '2024-06-11 2024-06-25')"
   ]
  },
  {
   "cell_type": "code",
   "execution_count": 20,
   "id": "bf16d403",
   "metadata": {},
   "outputs": [
    {
     "data": {
      "text/plain": [
       "{'operation_id': '03493f6d-d94d-4076-b606-b3d228bbd928',\n",
       " 'agg_operation_id': '19548fe7-4379-4da7-b118-1c339bbff99a',\n",
       " 'replica_num': 1,\n",
       " 'host': 'ch814601',\n",
       " 'table_name': 'vtikhonov_2024_06_26_18_44_40_749392',\n",
       " 'queue_position': 1,\n",
       " 'pipeline_id': '19548fe7-4379-4da7-b118-1c339bbff99a',\n",
       " 'check_version': False}"
      ]
     },
     "execution_count": 20,
     "metadata": {},
     "output_type": "execute_result"
    }
   ],
   "source": [
    "UP_select.run()"
   ]
  },
  {
   "cell_type": "code",
   "execution_count": 7,
   "id": "c0d541e6",
   "metadata": {},
   "outputs": [],
   "source": [
    "UP_select = SelectById(client, 'd21db880-d304-472a-a1d5-83056c8f650b')"
   ]
  },
  {
   "cell_type": "code",
   "execution_count": 8,
   "id": "943cce21",
   "metadata": {},
   "outputs": [
    {
     "data": {
      "text/plain": [
       "'finished'"
      ]
     },
     "execution_count": 8,
     "metadata": {},
     "output_type": "execute_result"
    }
   ],
   "source": [
    "UP_select.status()"
   ]
  },
  {
   "cell_type": "code",
   "execution_count": 10,
   "id": "f87e24c2",
   "metadata": {},
   "outputs": [],
   "source": [
    "CA_sql = '''\n",
    "SELECT user_id\n",
    "FROM community_actions\n",
    "WHERE dt = yesterday()\n",
    "AND user_role IN ('ADMIN', 'CREATOR', 'MODERATOR', 'EDITOR')\n",
    "AND event = 'PUBLISH_POST'\n",
    "'''"
   ]
  },
  {
   "cell_type": "code",
   "execution_count": 13,
   "id": "2fe30e06",
   "metadata": {},
   "outputs": [
    {
     "data": {
      "text/plain": [
       "{'operation_id': 'e5479d5d-a93f-4c28-8934-4f269d88c95e',\n",
       " 'agg_operation_id': 'cdc7151b-1f8b-4000-987f-4a39bceeadf2',\n",
       " 'replica_num': 0,\n",
       " 'host': 'ch814600',\n",
       " 'table_name': 'vtikhonov_2024_06_26_22_07_15_872763',\n",
       " 'queue_position': 0,\n",
       " 'pipeline_id': 'cdc7151b-1f8b-4000-987f-4a39bceeadf2',\n",
       " 'check_version': False}"
      ]
     },
     "execution_count": 13,
     "metadata": {},
     "output_type": "execute_result"
    }
   ],
   "source": [
    "CA_select = Select(client, sql=CA_sql)\n",
    "CA_select.run()"
   ]
  },
  {
   "cell_type": "code",
   "execution_count": 80,
   "id": "f6727301",
   "metadata": {},
   "outputs": [],
   "source": [
    "CA_select = SelectById(client, 'e5479d5d-a93f-4c28-8934-4f269d88c95e')"
   ]
  },
  {
   "cell_type": "code",
   "execution_count": 21,
   "id": "be13aed5",
   "metadata": {},
   "outputs": [
    {
     "data": {
      "text/plain": [
       "'finished'"
      ]
     },
     "execution_count": 21,
     "metadata": {},
     "output_type": "execute_result"
    }
   ],
   "source": [
    "CA_select.status()"
   ]
  },
  {
   "cell_type": "code",
   "execution_count": 54,
   "id": "07b71604",
   "metadata": {},
   "outputs": [
    {
     "name": "stdout",
     "output_type": "stream",
     "text": [
      "product_analytics_3 vtikhonov_2024_06_26_22_07_15_872763\n"
     ]
    }
   ],
   "source": [
    "j = Journal(client, 'select', operation_id_list=['d21db880-d304-472a-a1d5-83056c8f650b', 'e5479d5d-a93f-4c28-8934-4f269d88c95e']).run()\n",
    "print(j[0]['cluster'], j[0]['insert_table'])"
   ]
  },
  {
   "cell_type": "code",
   "execution_count": 55,
   "id": "4964ccd6",
   "metadata": {
    "scrolled": true
   },
   "outputs": [
    {
     "name": "stdout",
     "output_type": "stream",
     "text": [
      "product_analytics_3 vtikhonov_2024_06_26_17_56_20_455634\n"
     ]
    }
   ],
   "source": [
    "print(j[1]['cluster'], j[1]['insert_table'])"
   ]
  },
  {
   "cell_type": "code",
   "execution_count": 83,
   "id": "1c3b201b",
   "metadata": {},
   "outputs": [],
   "source": [
    "res1_sql = '''\n",
    "SELECT user_id\n",
    "FROM temp.vtikhonov_2024_06_26_17_56_20_455634\n",
    "GROUP BY user_id\n",
    "'''"
   ]
  },
  {
   "cell_type": "code",
   "execution_count": 84,
   "id": "18bb9439",
   "metadata": {},
   "outputs": [
    {
     "data": {
      "text/plain": [
       "{'operation_id': '9032dc06-d031-41ad-911c-4cd4a80d1391',\n",
       " 'agg_operation_id': '511e07c1-fad2-4817-af58-a868b6474f94',\n",
       " 'replica_num': 1,\n",
       " 'host': 'ch814601',\n",
       " 'table_name': 'vtikhonov_2024_06_26_23_00_36_962410',\n",
       " 'queue_position': 0,\n",
       " 'pipeline_id': '511e07c1-fad2-4817-af58-a868b6474f94',\n",
       " 'check_version': False}"
      ]
     },
     "execution_count": 84,
     "metadata": {},
     "output_type": "execute_result"
    }
   ],
   "source": [
    "res_select1 = Select(client, res1_sql, cluster='product_analytics_test')\n",
    "res_select1.run()"
   ]
  },
  {
   "cell_type": "code",
   "execution_count": 86,
   "id": "2a83a984",
   "metadata": {
    "scrolled": true
   },
   "outputs": [
    {
     "name": "stdout",
     "output_type": "stream",
     "text": [
      "running agg 0/1\n",
      "04_short\n",
      "  Type  | created_at | started_at | timeout | all | done |    username   |            operation_id            |\n",
      "---------------------------------------------------------------------------------------------------------------\n",
      " select |  23:00:43  |     -      |   2700  |  0  |  0   |   t.isakova   |d724d5b9-41bf-4aae-808d-ac010a078b00|\n",
      "\n",
      "06_long_other_cluster\n",
      "  Type  | created_at | started_at | timeout | all | done |    username   |            operation_id            |\n",
      "---------------------------------------------------------------------------------------------------------------\n",
      " select |  19:05:49  |  19:05:56  |  21000  |  1  |  0   |e.asmandiyarova|da32ccf3-cfda-4c56-994e-b2720fd77b85|\n",
      " select |  19:51:30  |  19:51:52  |  21000  |  1  |  0   |e.asmandiyarova|9df54a58-c13a-4fcc-b4c6-3e91eeb74887|\n",
      "\n",
      "07_other_cluster\n",
      "  Type  | created_at | started_at | timeout | all | done |    username   |            operation_id            |\n",
      "---------------------------------------------------------------------------------------------------------------\n",
      " select |  23:00:36  |  23:00:46  |   900   |  1  |  0   |   v.tikhonov  |9032dc06-d031-41ad-911c-4cd4a80d1391|\n",
      "\n",
      "10_etl_long\n",
      "  Type  | created_at | started_at | timeout | all | done |    username   |            operation_id            |\n",
      "---------------------------------------------------------------------------------------------------------------\n",
      "  agg   |  21:29:35  |     -      |  12100  |  0  |  0   | team_marketing|6e10dbf7-7e7d-432f-917d-49e8912f9c61|\n",
      "  agg   |  21:29:35  |     -      |  12100  |  0  |  0   | team_marketing|8a6aa490-3351-4df8-bc60-3ab0055268b9|\n",
      "  agg   |  21:29:35  |     -      |  12100  |  0  |  0   | team_marketing|65e592ce-9df3-4c6a-9fef-bd2576b2b656|\n",
      "  agg   |  21:29:35  |     -      |  12100  |  0  |  0   | team_marketing|b92b14b9-296d-4ccb-804b-83986eb47e41|\n",
      "  agg   |  21:29:35  |     -      |  12100  |  0  |  0   | team_marketing|a67d7216-4ed3-43b4-9fb9-02cd37b8ba92|\n",
      "  agg   |  21:29:35  |     -      |  12100  |  0  |  0   | team_marketing|1c0886d2-4d64-421d-b7fb-e0e2691e1a2a|\n",
      "  agg   |  21:29:35  |     -      |  12100  |  0  |  0   | team_marketing|530887b4-38ad-4e77-8660-3abbaa2614b6|\n",
      "  agg   |  21:29:35  |     -      |  12100  |  0  |  0   | team_marketing|5e34135d-5ebc-4c34-9830-23219f1e7c64|\n",
      "  agg   |  21:29:35  |     -      |  12100  |  0  |  0   | team_marketing|8b1a4f50-9e99-4421-91f3-78bd40829a99|\n",
      "  agg   |  21:31:07  |  22:27:41  |  21600  |  31 |  13  | team_marketing|78bf3a67-f84a-42f4-95d4-ef9c3b368930|\n",
      "  agg   |  21:31:07  |     -      |  21600  |  0  |  0   | team_marketing|0a36cafc-5edb-4436-8e2d-49581fd6c89a|\n",
      "  agg   |  21:31:07  |     -      |  21600  |  0  |  0   | team_marketing|b65c2a8c-73b0-4a80-89ef-b3f7d97c6fc9|\n",
      "  agg   |  21:31:07  |     -      |  21600  |  0  |  0   | team_marketing|a6edfb22-0023-4af5-9311-e5b5c675baf5|\n",
      "  agg   |  21:31:08  |     -      |  21600  |  0  |  0   | team_marketing|b891e8d9-d961-4365-bb12-42958b7db37a|\n",
      "  agg   |  22:16:25  |  22:16:29  |  21600  |  1  |  0   | team_marketing|03914a81-fa3b-4cd1-a5cd-2ab91895f4f5|\n",
      "  agg   |  22:16:25  |     -      |  21600  |  0  |  0   | team_marketing|58ec716a-0aa8-43cb-afdc-9a728b8abaff|\n",
      "  agg   |  22:16:25  |     -      |  21600  |  0  |  0   | team_marketing|a6eaac03-cd09-46ea-b874-060dbca158fd|\n",
      "  agg   |  22:16:25  |     -      |  21600  |  0  |  0   | team_marketing|25fa6161-689c-409c-8cc1-a95eb26d3f55|\n",
      "  agg   |  22:16:25  |     -      |  21600  |  0  |  0   | team_marketing|2dd3f95f-1d54-41fe-b093-d9c20a6a04dd|\n",
      "  agg   |  22:16:25  |     -      |  21600  |  0  |  0   | team_marketing|8d62bca2-6528-47ef-82ea-35ac19bbff82|\n",
      "  agg   |  22:16:25  |     -      |  21600  |  0  |  0   | team_marketing|0a6bf5c6-d436-4760-b0d3-2a8b9c8d2d74|\n",
      "\n",
      "11_etl_normal\n",
      "  Type  | created_at | started_at | timeout | all | done |    username   |            operation_id            |\n",
      "---------------------------------------------------------------------------------------------------------------\n",
      " select |  23:00:18  |  23:00:21  |   900   |  1  |  0   |vk_video_analytics_team|c7888a81-9d23-47c8-881c-7a613360e6ff|\n",
      " select |  23:00:19  |     -      |   900   |  0  |  0   |vk_video_analytics_team|c8e748d3-8de2-4771-8f5b-1dc1a9580622|\n",
      "\n"
     ]
    }
   ],
   "source": [
    "get_df_status(res_select1)"
   ]
  },
  {
   "cell_type": "code",
   "execution_count": 87,
   "id": "fbbdb94c",
   "metadata": {},
   "outputs": [],
   "source": [
    "res2_sql = '''\n",
    "SELECT user_id, count() AS count\n",
    "FROM temp.vtikhonov_2024_06_26_22_07_15_872763\n",
    "GROUP BY user_id\n",
    "'''"
   ]
  },
  {
   "cell_type": "code",
   "execution_count": 91,
   "id": "74559244",
   "metadata": {},
   "outputs": [
    {
     "data": {
      "text/plain": [
       "{'operation_id': '9ea34524-b2b0-4436-b041-aefc75c8f26d',\n",
       " 'agg_operation_id': '044b58a7-7850-45c8-86c9-4e4984b771c6',\n",
       " 'replica_num': 0,\n",
       " 'host': 'ch814600',\n",
       " 'table_name': 'vtikhonov_2024_06_26_23_03_35_976155',\n",
       " 'queue_position': 0,\n",
       " 'pipeline_id': '044b58a7-7850-45c8-86c9-4e4984b771c6',\n",
       " 'check_version': False}"
      ]
     },
     "execution_count": 91,
     "metadata": {},
     "output_type": "execute_result"
    }
   ],
   "source": [
    "res_select2 = Select(client, res2_sql, cluster='product_analytics_test')\n",
    "res_select2.run()"
   ]
  },
  {
   "cell_type": "code",
   "execution_count": 93,
   "id": "4c675efb",
   "metadata": {},
   "outputs": [
    {
     "data": {
      "text/plain": [
       "'finished'"
      ]
     },
     "execution_count": 93,
     "metadata": {},
     "output_type": "execute_result"
    }
   ],
   "source": [
    "res_select2.status()"
   ]
  },
  {
   "cell_type": "code",
   "execution_count": 94,
   "id": "2dbd87b1",
   "metadata": {},
   "outputs": [
    {
     "name": "stdout",
     "output_type": "stream",
     "text": [
      "product_analytics_test vtikhonov_2024_06_26_23_03_35_976155\n"
     ]
    }
   ],
   "source": [
    "j1 = Journal(client, 'select', operation_id_list=['9032dc06-d031-41ad-911c-4cd4a80d1391', '9ea34524-b2b0-4436-b041-aefc75c8f26d']).run()\n",
    "print(j1[0]['cluster'], j1[0]['insert_table'])"
   ]
  },
  {
   "cell_type": "code",
   "execution_count": 95,
   "id": "c51338da",
   "metadata": {},
   "outputs": [
    {
     "name": "stdout",
     "output_type": "stream",
     "text": [
      "product_analytics_test vtikhonov_2024_06_26_23_00_36_962410\n"
     ]
    }
   ],
   "source": [
    "print(j1[1]['cluster'], j1[1]['insert_table'])"
   ]
  },
  {
   "cell_type": "code",
   "execution_count": 100,
   "id": "3b7ceddf",
   "metadata": {},
   "outputs": [],
   "source": [
    "res_sql = '''\n",
    "SELECT sum(count)\n",
    "FROM temp.vtikhonov_2024_06_26_23_03_35_976155 t1\n",
    "INNER JOIN temp.vtikhonov_2024_06_26_23_00_36_962410 t2 USING user_id\n",
    "'''"
   ]
  },
  {
   "cell_type": "code",
   "execution_count": 101,
   "id": "aa702eaf",
   "metadata": {},
   "outputs": [
    {
     "data": {
      "text/plain": [
       "{'operation_id': '70a8ec44-256a-444f-8495-27d881465a32',\n",
       " 'agg_operation_id': 'f112478f-ec54-4520-b3cc-4e83acb3b444',\n",
       " 'replica_num': 1,\n",
       " 'host': 'ch814601',\n",
       " 'table_name': 'vtikhonov_2024_06_26_23_08_39_451798',\n",
       " 'queue_position': 0,\n",
       " 'pipeline_id': 'f112478f-ec54-4520-b3cc-4e83acb3b444',\n",
       " 'check_version': False}"
      ]
     },
     "execution_count": 101,
     "metadata": {},
     "output_type": "execute_result"
    }
   ],
   "source": [
    "res = Select(client, res_sql, cluster='product_analytics_test')\n",
    "res.run()"
   ]
  },
  {
   "cell_type": "code",
   "execution_count": 102,
   "id": "770854b7",
   "metadata": {},
   "outputs": [
    {
     "name": "stdout",
     "output_type": "stream",
     "text": [
      "running agg 0/1\n",
      "07_other_cluster\n",
      "  Type  | created_at | started_at | timeout | all | done |    username   |            operation_id            |\n",
      "---------------------------------------------------------------------------------------------------------------\n",
      " select |  23:08:39  |  23:08:40  |   900   |  1  |  0   |   v.tikhonov  |70a8ec44-256a-444f-8495-27d881465a32|\n",
      "\n",
      "10_etl_long\n",
      "  Type  | created_at | started_at | timeout | all | done |    username   |            operation_id            |\n",
      "---------------------------------------------------------------------------------------------------------------\n",
      "  agg   |  21:29:35  |     -      |  12100  |  0  |  0   | team_marketing|6e10dbf7-7e7d-432f-917d-49e8912f9c61|\n",
      "  agg   |  21:29:35  |     -      |  12100  |  0  |  0   | team_marketing|8a6aa490-3351-4df8-bc60-3ab0055268b9|\n",
      "  agg   |  21:29:35  |     -      |  12100  |  0  |  0   | team_marketing|65e592ce-9df3-4c6a-9fef-bd2576b2b656|\n",
      "  agg   |  21:29:35  |     -      |  12100  |  0  |  0   | team_marketing|b92b14b9-296d-4ccb-804b-83986eb47e41|\n",
      "  agg   |  21:29:35  |     -      |  12100  |  0  |  0   | team_marketing|a67d7216-4ed3-43b4-9fb9-02cd37b8ba92|\n",
      "  agg   |  21:29:35  |     -      |  12100  |  0  |  0   | team_marketing|1c0886d2-4d64-421d-b7fb-e0e2691e1a2a|\n",
      "  agg   |  21:29:35  |     -      |  12100  |  0  |  0   | team_marketing|530887b4-38ad-4e77-8660-3abbaa2614b6|\n",
      "  agg   |  21:29:35  |     -      |  12100  |  0  |  0   | team_marketing|5e34135d-5ebc-4c34-9830-23219f1e7c64|\n",
      "  agg   |  21:29:35  |     -      |  12100  |  0  |  0   | team_marketing|8b1a4f50-9e99-4421-91f3-78bd40829a99|\n",
      "  agg   |  21:31:07  |  22:27:41  |  21600  |  31 |  15  | team_marketing|78bf3a67-f84a-42f4-95d4-ef9c3b368930|\n",
      "  agg   |  22:16:25  |  22:16:29  |  21600  |  1  |  0   | team_marketing|03914a81-fa3b-4cd1-a5cd-2ab91895f4f5|\n",
      "\n",
      "11_etl_normal\n",
      "  Type  | created_at | started_at | timeout | all | done |    username   |            operation_id            |\n",
      "---------------------------------------------------------------------------------------------------------------\n",
      "  agg   |  23:05:34  |  23:05:34  |   899   |  1  |  0   |  team_auto_ml |f11878f5-1830-4952-82df-ee02224e5af9|\n",
      "  agg   |  23:05:36  |  23:05:36  |   899   |  1  |  0   |  team_auto_ml |d5865726-645a-46ba-83f3-78bf47765f9e|\n",
      "\n"
     ]
    }
   ],
   "source": [
    "get_df_status(res)"
   ]
  },
  {
   "cell_type": "code",
   "execution_count": 103,
   "id": "99b4c979",
   "metadata": {},
   "outputs": [
    {
     "data": {
      "text/html": [
       "<div>\n",
       "<style scoped>\n",
       "    .dataframe tbody tr th:only-of-type {\n",
       "        vertical-align: middle;\n",
       "    }\n",
       "\n",
       "    .dataframe tbody tr th {\n",
       "        vertical-align: top;\n",
       "    }\n",
       "\n",
       "    .dataframe thead th {\n",
       "        text-align: right;\n",
       "    }\n",
       "</style>\n",
       "<table border=\"1\" class=\"dataframe\">\n",
       "  <thead>\n",
       "    <tr style=\"text-align: right;\">\n",
       "      <th></th>\n",
       "      <th>sum(count)</th>\n",
       "    </tr>\n",
       "  </thead>\n",
       "  <tbody>\n",
       "    <tr>\n",
       "      <th>0</th>\n",
       "      <td>1964792</td>\n",
       "    </tr>\n",
       "  </tbody>\n",
       "</table>\n",
       "</div>"
      ],
      "text/plain": [
       "   sum(count)\n",
       "0     1964792"
      ]
     },
     "execution_count": 103,
     "metadata": {},
     "output_type": "execute_result"
    }
   ],
   "source": [
    "res.get_df(wait=True)"
   ]
  },
  {
   "cell_type": "code",
   "execution_count": 108,
   "id": "03657da2",
   "metadata": {},
   "outputs": [],
   "source": [
    "### кол-во постов в день"
   ]
  },
  {
   "cell_type": "code",
   "execution_count": 81,
   "id": "01cba97c",
   "metadata": {
    "scrolled": false
   },
   "outputs": [
    {
     "data": {
      "text/plain": [
       "user_id    3160668\n",
       "dtype: int64"
      ]
     },
     "execution_count": 81,
     "metadata": {},
     "output_type": "execute_result"
    }
   ],
   "source": [
    "posts = CA_select.get_df()\n",
    "posts.count()"
   ]
  },
  {
   "cell_type": "code",
   "execution_count": 110,
   "id": "31d99080",
   "metadata": {},
   "outputs": [],
   "source": [
    "### кол-во прикрепленных фото в день"
   ]
  },
  {
   "cell_type": "code",
   "execution_count": 112,
   "id": "f6a710d3",
   "metadata": {},
   "outputs": [],
   "source": [
    "photo_posting_sql = '''\n",
    "SELECT\n",
    "    user_id,\n",
    "    count() AS count\n",
    "FROM\n",
    "    (SELECT \n",
    "        user_id, \n",
    "        attachments.type, \n",
    "        attachments.owner_id, \n",
    "        attachments.item_id\n",
    "    FROM\n",
    "        (SELECT \n",
    "            user_id,\n",
    "            attachments.type, \n",
    "            attachments.owner_id, \n",
    "            attachments.item_id\n",
    "        FROM posting\n",
    "        WHERE dt = yesterday()\n",
    "        AND event_type = 'post_now'\n",
    "        AND has(attachments.type, 'photo'))\n",
    "    ARRAY JOIN attachments.type, attachments.owner_id, attachments.item_id\n",
    "    WHERE attachments.type = 'photo'\n",
    "    and intHash64(attachments.owner_id) % $shards_num = $shard)\n",
    "GROUP BY user_id\n",
    "'''"
   ]
  },
  {
   "cell_type": "code",
   "execution_count": 114,
   "id": "b940bf47",
   "metadata": {},
   "outputs": [
    {
     "data": {
      "text/plain": [
       "{'operation_id': '28836bb8-91cc-4647-85ab-779594f319e6',\n",
       " 'agg_operation_id': '01e3d9cc-4897-4304-b056-68c88052860d',\n",
       " 'replica_num': 0,\n",
       " 'host': 'ch814600',\n",
       " 'table_name': 'vtikhonov_2024_06_26_23_19_44_189214',\n",
       " 'queue_position': 1,\n",
       " 'pipeline_id': '01e3d9cc-4897-4304-b056-68c88052860d',\n",
       " 'check_version': False}"
      ]
     },
     "execution_count": 114,
     "metadata": {},
     "output_type": "execute_result"
    }
   ],
   "source": [
    "photo_posting_select = Select(client, photo_posting_sql, granularity=1)\n",
    "photo_posting_select.run()"
   ]
  },
  {
   "cell_type": "code",
   "execution_count": 118,
   "id": "7e9ac977",
   "metadata": {},
   "outputs": [],
   "source": [
    "get_df_status(photo_posting_select)\n"
   ]
  },
  {
   "cell_type": "code",
   "execution_count": 119,
   "id": "6fa7e581",
   "metadata": {},
   "outputs": [
    {
     "data": {
      "text/plain": [
       "'vtikhonov_2024_06_26_23_19_44_189214'"
      ]
     },
     "execution_count": 119,
     "metadata": {},
     "output_type": "execute_result"
    }
   ],
   "source": [
    "j2 = Journal(client, 'select', operation_id_list=['28836bb8-91cc-4647-85ab-779594f319e6']).run()\n",
    "j2[0]['insert_table']"
   ]
  },
  {
   "cell_type": "code",
   "execution_count": 120,
   "id": "4270b141",
   "metadata": {},
   "outputs": [],
   "source": [
    "photos_res_sql = '''\n",
    "SELECT sum(count)\n",
    "FROM temp.vtikhonov_2024_06_26_23_03_35_976155 \n",
    "INNER JOIN temp.vtikhonov_2024_06_26_23_19_44_189214 USING user_id\n",
    "'''"
   ]
  },
  {
   "cell_type": "code",
   "execution_count": 121,
   "id": "ff59e843",
   "metadata": {},
   "outputs": [],
   "source": [
    "res2 = Select(client, photos_res_sql, cluster='product_analytics_test')"
   ]
  },
  {
   "cell_type": "code",
   "execution_count": 122,
   "id": "2edf410d",
   "metadata": {},
   "outputs": [
    {
     "data": {
      "text/plain": [
       "{'operation_id': '8208b236-5ee5-4b09-bf7d-c0ddd10d14d8',\n",
       " 'agg_operation_id': 'b0b71709-8e0f-47f9-94da-7c41735480eb',\n",
       " 'replica_num': 0,\n",
       " 'host': 'ch814600',\n",
       " 'table_name': 'vtikhonov_2024_06_26_23_24_47_486790',\n",
       " 'queue_position': 0,\n",
       " 'pipeline_id': 'b0b71709-8e0f-47f9-94da-7c41735480eb',\n",
       " 'check_version': False}"
      ]
     },
     "execution_count": 122,
     "metadata": {},
     "output_type": "execute_result"
    }
   ],
   "source": [
    "res2.run()"
   ]
  },
  {
   "cell_type": "code",
   "execution_count": 123,
   "id": "72d7034c",
   "metadata": {},
   "outputs": [
    {
     "name": "stdout",
     "output_type": "stream",
     "text": [
      "running agg 0/1\n",
      "03_normal\n",
      "  Type  | created_at | started_at | timeout | all | done |    username   |            operation_id            |\n",
      "---------------------------------------------------------------------------------------------------------------\n",
      " select |  23:23:34  |  23:23:34  |   2700  |  31 |  6   | e.kozhevnikov |4081018f-4736-481d-9111-1ef711c757d6|\n",
      " select |  23:24:08  |  23:24:10  |   900   |  1  |  0   |alena.arsenteva|02d59f56-5983-4914-97b4-edbf4374f108|\n",
      "\n",
      "07_other_cluster\n",
      "  Type  | created_at | started_at | timeout | all | done |    username   |            operation_id            |\n",
      "---------------------------------------------------------------------------------------------------------------\n",
      " select |  23:24:47  |  23:24:48  |   900   |  1  |  0   |   v.tikhonov  |8208b236-5ee5-4b09-bf7d-c0ddd10d14d8|\n",
      "\n",
      "10_etl_long\n",
      "  Type  | created_at | started_at | timeout | all | done |    username   |            operation_id            |\n",
      "---------------------------------------------------------------------------------------------------------------\n",
      "  agg   |  21:29:35  |     -      |  12100  |  0  |  0   | team_marketing|6e10dbf7-7e7d-432f-917d-49e8912f9c61|\n",
      "  agg   |  21:29:35  |     -      |  12100  |  0  |  0   | team_marketing|8a6aa490-3351-4df8-bc60-3ab0055268b9|\n",
      "  agg   |  21:29:35  |     -      |  12100  |  0  |  0   | team_marketing|65e592ce-9df3-4c6a-9fef-bd2576b2b656|\n",
      "  agg   |  21:29:35  |     -      |  12100  |  0  |  0   | team_marketing|b92b14b9-296d-4ccb-804b-83986eb47e41|\n",
      "  agg   |  21:29:35  |     -      |  12100  |  0  |  0   | team_marketing|a67d7216-4ed3-43b4-9fb9-02cd37b8ba92|\n",
      "  agg   |  21:29:35  |     -      |  12100  |  0  |  0   | team_marketing|1c0886d2-4d64-421d-b7fb-e0e2691e1a2a|\n",
      "  agg   |  21:29:35  |     -      |  12100  |  0  |  0   | team_marketing|530887b4-38ad-4e77-8660-3abbaa2614b6|\n",
      "  agg   |  21:29:35  |     -      |  12100  |  0  |  0   | team_marketing|5e34135d-5ebc-4c34-9830-23219f1e7c64|\n",
      "  agg   |  21:29:35  |     -      |  12100  |  0  |  0   | team_marketing|8b1a4f50-9e99-4421-91f3-78bd40829a99|\n",
      "\n"
     ]
    }
   ],
   "source": [
    "get_df_status(res2)"
   ]
  },
  {
   "cell_type": "code",
   "execution_count": 125,
   "id": "4896fb58",
   "metadata": {},
   "outputs": [
    {
     "data": {
      "text/html": [
       "<div>\n",
       "<style scoped>\n",
       "    .dataframe tbody tr th:only-of-type {\n",
       "        vertical-align: middle;\n",
       "    }\n",
       "\n",
       "    .dataframe tbody tr th {\n",
       "        vertical-align: top;\n",
       "    }\n",
       "\n",
       "    .dataframe thead th {\n",
       "        text-align: right;\n",
       "    }\n",
       "</style>\n",
       "<table border=\"1\" class=\"dataframe\">\n",
       "  <thead>\n",
       "    <tr style=\"text-align: right;\">\n",
       "      <th></th>\n",
       "      <th>sum(count)</th>\n",
       "    </tr>\n",
       "  </thead>\n",
       "  <tbody>\n",
       "    <tr>\n",
       "      <th>0</th>\n",
       "      <td>11611651</td>\n",
       "    </tr>\n",
       "  </tbody>\n",
       "</table>\n",
       "</div>"
      ],
      "text/plain": [
       "   sum(count)\n",
       "0    11611651"
      ]
     },
     "execution_count": 125,
     "metadata": {},
     "output_type": "execute_result"
    }
   ],
   "source": [
    "res2.get_df()"
   ]
  },
  {
   "cell_type": "code",
   "execution_count": 126,
   "id": "32069ff2",
   "metadata": {},
   "outputs": [],
   "source": [
    "###  кол-во прикрепоенных фото из фото профиля"
   ]
  },
  {
   "cell_type": "code",
   "execution_count": 145,
   "id": "96809086",
   "metadata": {},
   "outputs": [],
   "source": [
    "profile_photo_sql = '''\n",
    "SELECT\n",
    "    user_id,\n",
    "    count() AS count\n",
    "FROM\n",
    "    (SELECT \n",
    "        user_id, \n",
    "        attachments.type, \n",
    "        attachments.owner_id, \n",
    "        attachments.item_id\n",
    "    FROM\n",
    "        (SELECT \n",
    "            user_id,\n",
    "            attachments.type, \n",
    "            attachments.owner_id, \n",
    "            attachments.item_id\n",
    "        FROM posting\n",
    "        WHERE dt = yesterday()\n",
    "        AND event_type = 'post_now'\n",
    "        AND owner_id > 0\n",
    "        AND has(attachments.type, 'photo'))\n",
    "    ARRAY JOIN attachments.type, attachments.owner_id, attachments.item_id\n",
    "    WHERE attachments.type = 'photo'\n",
    "    and intHash64(attachments.owner_id) % $shards_num = $shard)\n",
    "GROUP BY user_id\n",
    "'''"
   ]
  },
  {
   "cell_type": "code",
   "execution_count": 146,
   "id": "fc6ab5ed",
   "metadata": {},
   "outputs": [
    {
     "data": {
      "text/plain": [
       "{'operation_id': '03ce1714-9551-42b6-8f3b-587ac4dfcb7f',\n",
       " 'agg_operation_id': '4c7516d5-94b8-442e-aeaf-89c7fb33f2de',\n",
       " 'replica_num': 1,\n",
       " 'host': 'ch814601',\n",
       " 'table_name': 'vtikhonov_2024_06_26_23_36_00_137784',\n",
       " 'queue_position': 0,\n",
       " 'pipeline_id': '4c7516d5-94b8-442e-aeaf-89c7fb33f2de',\n",
       " 'check_version': False}"
      ]
     },
     "execution_count": 146,
     "metadata": {},
     "output_type": "execute_result"
    }
   ],
   "source": [
    "profile_posting_select = Select(client, profile_photo_sql, granularity=1)\n",
    "profile_posting_select.run()"
   ]
  },
  {
   "cell_type": "code",
   "execution_count": 147,
   "id": "30cff7c0",
   "metadata": {},
   "outputs": [
    {
     "name": "stdout",
     "output_type": "stream",
     "text": [
      "running agg 0/1\n",
      "02_long\n",
      "  Type  | created_at | started_at | timeout | all | done |    username   |            operation_id            |\n",
      "---------------------------------------------------------------------------------------------------------------\n",
      " select |  23:35:49  |  23:35:50  |  21600  |  1  |  0   | e.kozhevnikov |ab4eaeb4-41e1-42a9-98f3-e2c59675f4b7|\n",
      "\n",
      "03_normal\n",
      "  Type  | created_at | started_at | timeout | all | done |    username   |            operation_id            |\n",
      "---------------------------------------------------------------------------------------------------------------\n",
      " select |  23:36:00  |  23:36:01  |   2700  |  1  |  0   |   v.tikhonov  |03ce1714-9551-42b6-8f3b-587ac4dfcb7f|\n",
      "\n",
      "10_etl_long\n",
      "  Type  | created_at | started_at | timeout | all | done |    username   |            operation_id            |\n",
      "---------------------------------------------------------------------------------------------------------------\n",
      "  agg   |  21:29:35  |     -      |  12100  |  0  |  0   | team_marketing|6e10dbf7-7e7d-432f-917d-49e8912f9c61|\n",
      "  agg   |  21:29:35  |     -      |  12100  |  0  |  0   | team_marketing|8a6aa490-3351-4df8-bc60-3ab0055268b9|\n",
      "  agg   |  21:29:35  |     -      |  12100  |  0  |  0   | team_marketing|65e592ce-9df3-4c6a-9fef-bd2576b2b656|\n",
      "  agg   |  21:29:35  |     -      |  12100  |  0  |  0   | team_marketing|b92b14b9-296d-4ccb-804b-83986eb47e41|\n",
      "  agg   |  21:29:35  |     -      |  12100  |  0  |  0   | team_marketing|a67d7216-4ed3-43b4-9fb9-02cd37b8ba92|\n",
      "  agg   |  21:29:35  |     -      |  12100  |  0  |  0   | team_marketing|1c0886d2-4d64-421d-b7fb-e0e2691e1a2a|\n",
      "  agg   |  21:29:35  |     -      |  12100  |  0  |  0   | team_marketing|530887b4-38ad-4e77-8660-3abbaa2614b6|\n",
      "  agg   |  21:29:35  |     -      |  12100  |  0  |  0   | team_marketing|5e34135d-5ebc-4c34-9830-23219f1e7c64|\n",
      "  agg   |  21:29:35  |     -      |  12100  |  0  |  0   | team_marketing|8b1a4f50-9e99-4421-91f3-78bd40829a99|\n",
      "\n",
      "11_etl_normal\n",
      "  Type  | created_at | started_at | timeout | all | done |    username   |            operation_id            |\n",
      "---------------------------------------------------------------------------------------------------------------\n",
      "  agg   |  23:35:02  |  23:35:02  |   900   |  1  |  0   | team_marketing|23fda1ea-7ec5-4646-a177-612a226dbb12|\n",
      "\n"
     ]
    }
   ],
   "source": [
    "get_df_status(profile_posting_select)"
   ]
  },
  {
   "cell_type": "code",
   "execution_count": 148,
   "id": "708b6f30",
   "metadata": {},
   "outputs": [
    {
     "data": {
      "text/plain": [
       "'vtikhonov_2024_06_26_23_36_00_137784'"
      ]
     },
     "execution_count": 148,
     "metadata": {},
     "output_type": "execute_result"
    }
   ],
   "source": [
    "j2 = Journal(client, 'select', operation_id_list=['03ce1714-9551-42b6-8f3b-587ac4dfcb7f']).run()\n",
    "j2[0]['insert_table']"
   ]
  },
  {
   "cell_type": "code",
   "execution_count": 149,
   "id": "08799f0c",
   "metadata": {},
   "outputs": [],
   "source": [
    "photosp_res_sql = '''\n",
    "SELECT sum(count)\n",
    "FROM temp.vtikhonov_2024_06_26_23_03_35_976155 \n",
    "INNER JOIN temp.vtikhonov_2024_06_26_23_36_00_137784 USING user_id\n",
    "'''"
   ]
  },
  {
   "cell_type": "code",
   "execution_count": 150,
   "id": "c15aefaf",
   "metadata": {},
   "outputs": [
    {
     "data": {
      "text/plain": [
       "{'operation_id': 'c8c4fe22-bd21-4e55-b061-b055b49a5230',\n",
       " 'agg_operation_id': '2abf4121-1e5c-4cae-a518-500a97cee131',\n",
       " 'replica_num': 0,\n",
       " 'host': 'ch814600',\n",
       " 'table_name': 'vtikhonov_2024_06_26_23_36_41_915347',\n",
       " 'queue_position': 0,\n",
       " 'pipeline_id': '2abf4121-1e5c-4cae-a518-500a97cee131',\n",
       " 'check_version': False}"
      ]
     },
     "execution_count": 150,
     "metadata": {},
     "output_type": "execute_result"
    }
   ],
   "source": [
    "res3 = Select(client, photosp_res_sql, cluster='product_analytics_test')\n",
    "res3.run()"
   ]
  },
  {
   "cell_type": "code",
   "execution_count": 151,
   "id": "b76f7dcf",
   "metadata": {},
   "outputs": [
    {
     "name": "stdout",
     "output_type": "stream",
     "text": [
      "running agg 0/1\n",
      "03_normal\n",
      "  Type  | created_at | started_at | timeout | all | done |    username   |            operation_id            |\n",
      "---------------------------------------------------------------------------------------------------------------\n",
      " select |  23:36:54  |  23:36:55  |   900   |  1  |  0   |   m.bavykina  |7cb9421b-7222-4731-851e-3a252eefc5c6|\n",
      "\n",
      "07_other_cluster\n",
      "  Type  | created_at | started_at | timeout | all | done |    username   |            operation_id            |\n",
      "---------------------------------------------------------------------------------------------------------------\n",
      " select |  23:36:41  |  23:36:42  |   900   |  1  |  0   |   v.tikhonov  |c8c4fe22-bd21-4e55-b061-b055b49a5230|\n",
      "\n",
      "10_etl_long\n",
      "  Type  | created_at | started_at | timeout | all | done |    username   |            operation_id            |\n",
      "---------------------------------------------------------------------------------------------------------------\n",
      "  agg   |  21:29:35  |     -      |  12100  |  0  |  0   | team_marketing|6e10dbf7-7e7d-432f-917d-49e8912f9c61|\n",
      "  agg   |  21:29:35  |     -      |  12100  |  0  |  0   | team_marketing|8a6aa490-3351-4df8-bc60-3ab0055268b9|\n",
      "  agg   |  21:29:35  |     -      |  12100  |  0  |  0   | team_marketing|65e592ce-9df3-4c6a-9fef-bd2576b2b656|\n",
      "  agg   |  21:29:35  |     -      |  12100  |  0  |  0   | team_marketing|b92b14b9-296d-4ccb-804b-83986eb47e41|\n",
      "  agg   |  21:29:35  |     -      |  12100  |  0  |  0   | team_marketing|a67d7216-4ed3-43b4-9fb9-02cd37b8ba92|\n",
      "  agg   |  21:29:35  |     -      |  12100  |  0  |  0   | team_marketing|1c0886d2-4d64-421d-b7fb-e0e2691e1a2a|\n",
      "  agg   |  21:29:35  |     -      |  12100  |  0  |  0   | team_marketing|530887b4-38ad-4e77-8660-3abbaa2614b6|\n",
      "  agg   |  21:29:35  |     -      |  12100  |  0  |  0   | team_marketing|5e34135d-5ebc-4c34-9830-23219f1e7c64|\n",
      "  agg   |  21:29:35  |     -      |  12100  |  0  |  0   | team_marketing|8b1a4f50-9e99-4421-91f3-78bd40829a99|\n",
      "\n"
     ]
    }
   ],
   "source": [
    "get_df_status(res3)"
   ]
  },
  {
   "cell_type": "code",
   "execution_count": 152,
   "id": "7f7a51b1",
   "metadata": {},
   "outputs": [
    {
     "data": {
      "text/html": [
       "<div>\n",
       "<style scoped>\n",
       "    .dataframe tbody tr th:only-of-type {\n",
       "        vertical-align: middle;\n",
       "    }\n",
       "\n",
       "    .dataframe tbody tr th {\n",
       "        vertical-align: top;\n",
       "    }\n",
       "\n",
       "    .dataframe thead th {\n",
       "        text-align: right;\n",
       "    }\n",
       "</style>\n",
       "<table border=\"1\" class=\"dataframe\">\n",
       "  <thead>\n",
       "    <tr style=\"text-align: right;\">\n",
       "      <th></th>\n",
       "      <th>sum(count)</th>\n",
       "    </tr>\n",
       "  </thead>\n",
       "  <tbody>\n",
       "    <tr>\n",
       "      <th>0</th>\n",
       "      <td>383843</td>\n",
       "    </tr>\n",
       "  </tbody>\n",
       "</table>\n",
       "</div>"
      ],
      "text/plain": [
       "   sum(count)\n",
       "0      383843"
      ]
     },
     "execution_count": 152,
     "metadata": {},
     "output_type": "execute_result"
    }
   ],
   "source": [
    "res3.get_df()"
   ]
  },
  {
   "cell_type": "code",
   "execution_count": 153,
   "id": "75d338cf",
   "metadata": {},
   "outputs": [],
   "source": [
    "### кол-во прикрепленных видео в день"
   ]
  },
  {
   "cell_type": "code",
   "execution_count": 154,
   "id": "c4adadfb",
   "metadata": {},
   "outputs": [],
   "source": [
    "video_posting_sql = '''\n",
    "SELECT\n",
    "    user_id,\n",
    "    count() AS count\n",
    "FROM\n",
    "    (SELECT \n",
    "        user_id, \n",
    "        attachments.type, \n",
    "        attachments.owner_id, \n",
    "        attachments.item_id\n",
    "    FROM\n",
    "        (SELECT \n",
    "            user_id,\n",
    "            attachments.type, \n",
    "            attachments.owner_id, \n",
    "            attachments.item_id\n",
    "        FROM posting\n",
    "        WHERE dt = yesterday()\n",
    "        AND event_type = 'post_now'\n",
    "        AND has(attachments.type, 'video'))\n",
    "    ARRAY JOIN attachments.type, attachments.owner_id, attachments.item_id\n",
    "    WHERE attachments.type = 'video'\n",
    "    and intHash64(attachments.owner_id) % $shards_num = $shard)\n",
    "GROUP BY user_id\n",
    "'''"
   ]
  },
  {
   "cell_type": "code",
   "execution_count": 155,
   "id": "135aeaa5",
   "metadata": {},
   "outputs": [
    {
     "data": {
      "text/plain": [
       "{'operation_id': 'c297c490-dbe9-451b-b326-134b0516e7c4',\n",
       " 'agg_operation_id': 'dc902b68-2bd3-4e9d-adf8-8bc17bdd092a',\n",
       " 'replica_num': 1,\n",
       " 'host': 'ch814601',\n",
       " 'table_name': 'vtikhonov_2024_06_26_23_50_20_137063',\n",
       " 'queue_position': 0,\n",
       " 'pipeline_id': 'dc902b68-2bd3-4e9d-adf8-8bc17bdd092a',\n",
       " 'check_version': False}"
      ]
     },
     "execution_count": 155,
     "metadata": {},
     "output_type": "execute_result"
    }
   ],
   "source": [
    "video_posting_select = Select(client, video_posting_sql, granularity=1)\n",
    "video_posting_select.run()"
   ]
  },
  {
   "cell_type": "code",
   "execution_count": 156,
   "id": "dfb91910",
   "metadata": {},
   "outputs": [
    {
     "data": {
      "text/plain": [
       "'finished'"
      ]
     },
     "execution_count": 156,
     "metadata": {},
     "output_type": "execute_result"
    }
   ],
   "source": [
    "video_posting_select.status()"
   ]
  },
  {
   "cell_type": "code",
   "execution_count": 157,
   "id": "a1eba51d",
   "metadata": {},
   "outputs": [
    {
     "data": {
      "text/plain": [
       "'vtikhonov_2024_06_26_23_50_20_137063'"
      ]
     },
     "execution_count": 157,
     "metadata": {},
     "output_type": "execute_result"
    }
   ],
   "source": [
    "j3 = Journal(client, 'select', operation_id_list=['c297c490-dbe9-451b-b326-134b0516e7c4']).run()\n",
    "j3[0]['insert_table']"
   ]
  },
  {
   "cell_type": "code",
   "execution_count": 158,
   "id": "e59c8871",
   "metadata": {},
   "outputs": [],
   "source": [
    "video_res_sql = '''\n",
    "SELECT sum(count)\n",
    "FROM temp.vtikhonov_2024_06_26_23_03_35_976155 \n",
    "INNER JOIN temp.vtikhonov_2024_06_26_23_50_20_137063 USING user_id\n",
    "'''"
   ]
  },
  {
   "cell_type": "code",
   "execution_count": 159,
   "id": "35e531b0",
   "metadata": {},
   "outputs": [],
   "source": [
    "res3 = Select(client, video_res_sql, cluster='product_analytics_test')"
   ]
  },
  {
   "cell_type": "code",
   "execution_count": 160,
   "id": "5677fe49",
   "metadata": {},
   "outputs": [
    {
     "data": {
      "text/plain": [
       "{'operation_id': '487aeb83-110b-493c-91cc-5de03854382e',\n",
       " 'agg_operation_id': '536316e0-0b2e-44d9-98ba-2cf06a7b794c',\n",
       " 'replica_num': 0,\n",
       " 'host': 'ch814600',\n",
       " 'table_name': 'vtikhonov_2024_06_26_23_54_46_17526',\n",
       " 'queue_position': 0,\n",
       " 'pipeline_id': '536316e0-0b2e-44d9-98ba-2cf06a7b794c',\n",
       " 'check_version': False}"
      ]
     },
     "execution_count": 160,
     "metadata": {},
     "output_type": "execute_result"
    }
   ],
   "source": [
    "res3.run()"
   ]
  },
  {
   "cell_type": "code",
   "execution_count": 162,
   "id": "a77104b3",
   "metadata": {},
   "outputs": [
    {
     "data": {
      "text/plain": [
       "'finished'"
      ]
     },
     "execution_count": 162,
     "metadata": {},
     "output_type": "execute_result"
    }
   ],
   "source": [
    "res3.status()"
   ]
  },
  {
   "cell_type": "code",
   "execution_count": 163,
   "id": "692873d5",
   "metadata": {},
   "outputs": [
    {
     "data": {
      "text/html": [
       "<div>\n",
       "<style scoped>\n",
       "    .dataframe tbody tr th:only-of-type {\n",
       "        vertical-align: middle;\n",
       "    }\n",
       "\n",
       "    .dataframe tbody tr th {\n",
       "        vertical-align: top;\n",
       "    }\n",
       "\n",
       "    .dataframe thead th {\n",
       "        text-align: right;\n",
       "    }\n",
       "</style>\n",
       "<table border=\"1\" class=\"dataframe\">\n",
       "  <thead>\n",
       "    <tr style=\"text-align: right;\">\n",
       "      <th></th>\n",
       "      <th>sum(count)</th>\n",
       "    </tr>\n",
       "  </thead>\n",
       "  <tbody>\n",
       "    <tr>\n",
       "      <th>0</th>\n",
       "      <td>2725472</td>\n",
       "    </tr>\n",
       "  </tbody>\n",
       "</table>\n",
       "</div>"
      ],
      "text/plain": [
       "   sum(count)\n",
       "0     2725472"
      ]
     },
     "execution_count": 163,
     "metadata": {},
     "output_type": "execute_result"
    }
   ],
   "source": [
    "res3.get_df()"
   ]
  },
  {
   "cell_type": "code",
   "execution_count": 243,
   "id": "b25270de",
   "metadata": {},
   "outputs": [],
   "source": [
    "### кол-во прикрепленных видео сообщества в день"
   ]
  },
  {
   "cell_type": "code",
   "execution_count": 262,
   "id": "722c9564",
   "metadata": {},
   "outputs": [],
   "source": [
    "sql = '''\n",
    "WITH t1 AS (\n",
    "SELECT\n",
    "    user_id,\n",
    "    event_id,\n",
    "    video_id, \n",
    "    video_owner_id\n",
    "FROM video_publish\n",
    "WHERE dt >= yesterday() - 14\n",
    "AND event_type = 'publish_video'\n",
    "and intHash64(user_id) % $shards_num = $shard\n",
    "GROUP BY user_id, event_id, video_id, video_owner_id\n",
    "),\n",
    "\n",
    "t2 AS (\n",
    "SELECT \n",
    "    user_id, \n",
    "    attachments.type, \n",
    "    attachments.owner_id, \n",
    "    attachments.item_id\n",
    "FROM\n",
    "    (SELECT \n",
    "        user_id,\n",
    "        event_id,\n",
    "        attachments.type, \n",
    "        attachments.owner_id, \n",
    "        attachments.item_id\n",
    "    FROM posting \n",
    "    WHERE dt = yesterday()\n",
    "    AND event_type LIKE 'post_%'\n",
    "    AND owner_id < 0\n",
    "    AND has(attachments.type, 'video')\n",
    "    AND         intHash64(user_id) % $shards_num = $shard\n",
    "    GROUP BY user_id, event_id, attachments.type, attachments.owner_id, attachments.item_id)\n",
    "ARRAY JOIN attachments.type, attachments.owner_id, attachments.item_id\n",
    "WHERE attachments.type = 'video'\n",
    "),\n",
    "\n",
    "t3 AS (\n",
    "SELECT *\n",
    "FROM\n",
    "    (SELECT \n",
    "        user_id,\n",
    "        owner_id,\n",
    "        event_id,\n",
    "        attachments.type, \n",
    "        attachments.owner_id, \n",
    "        attachments.item_id\n",
    "    FROM posting \n",
    "    WHERE dt = yesterday()\n",
    "    AND event_type LIKE 'post_%'\n",
    "    AND has(attachments.type, 'video')\n",
    "    AND intHash64(user_id) % $shards_num = $shard)\n",
    "ARRAY JOIN attachments.owner_id, attachments.item_id, attachments.type\n",
    "WHERE attachments.type = 'video'\n",
    "AND (attachments.owner_id = user_id OR (attachments.owner_id != user_id AND attachments.owner_id != owner_id))\n",
    ")\n",
    "    \n",
    "SELECT *\n",
    "FROM t3\n",
    "WHERE concat(toString(attachments.item_id), toString(attachments.owner_id)) NOT IN (\n",
    "    SELECT\n",
    "        concat(toString(video_id), toString(video_owner_id))\n",
    "    FROM t2\n",
    "    INNER JOIN t1 ON t1.video_id = t2.attachments.item_id AND t1.video_owner_id = t2.attachments.owner_id\n",
    "     )\n",
    "'''"
   ]
  },
  {
   "cell_type": "code",
   "execution_count": 263,
   "id": "110809a6",
   "metadata": {},
   "outputs": [
    {
     "data": {
      "text/plain": [
       "{'operation_id': '9f782174-c6ec-4042-94d9-eca55e42465e',\n",
       " 'agg_operation_id': 'cceca284-0792-4bdc-bc43-af89b67f2147',\n",
       " 'replica_num': 0,\n",
       " 'host': 'ch814600',\n",
       " 'table_name': 'vtikhonov_2024_06_28_20_02_09_311629',\n",
       " 'queue_position': 0,\n",
       " 'pipeline_id': 'cceca284-0792-4bdc-bc43-af89b67f2147',\n",
       " 'check_version': False}"
      ]
     },
     "execution_count": 263,
     "metadata": {},
     "output_type": "execute_result"
    }
   ],
   "source": [
    "lol = Select(client, sql, granularity=1)\n",
    "lol.run()"
   ]
  },
  {
   "cell_type": "code",
   "execution_count": 264,
   "id": "794ed395",
   "metadata": {},
   "outputs": [
    {
     "name": "stdout",
     "output_type": "stream",
     "text": [
      "running agg 0/1\n",
      "02_long\n",
      "  Type  | created_at | started_at | timeout | all | done |    username   |            operation_id            |\n",
      "---------------------------------------------------------------------------------------------------------------\n",
      "  agg   |  18:26:06  |  18:26:06  |  21600  | 226 |  55  |    o.belov    |be5ee9a6-7705-4804-9881-faad3d8efb0d|\n",
      "\n",
      "03_normal\n",
      "  Type  | created_at | started_at | timeout | all | done |    username   |            operation_id            |\n",
      "---------------------------------------------------------------------------------------------------------------\n",
      " select |  00:17:41  |     -      |   900   |  0  |  0   |   v.repnikov  |c13398d3-455a-4f7f-b107-97c313507e26|\n",
      " select |  00:17:41  |     -      |   900   |  0  |  0   |   v.repnikov  |2f914087-6fdf-4e52-9605-e61d9ebb8bf5|\n",
      " select |  00:17:41  |     -      |   900   |  0  |  0   |   v.repnikov  |499ae460-b379-4507-bdb5-531f738d1798|\n",
      " select |  00:17:42  |     -      |   900   |  0  |  0   |   v.repnikov  |5fdce3ec-d81a-48cd-b51d-d1c23c2bf71f|\n",
      " select |  00:17:43  |     -      |   900   |  0  |  0   |   v.repnikov  |437a4ba5-6173-4442-9864-98388a946fdc|\n",
      " select |  00:17:43  |     -      |   900   |  0  |  0   |   v.repnikov  |7a2c40a3-e575-48a1-9911-68f9685acf92|\n",
      " select |  00:17:44  |     -      |   2700  |  0  |  0   |   v.repnikov  |330f0db1-0eb0-47ba-887e-290f28ed38f7|\n",
      " select |  00:17:44  |     -      |   900   |  0  |  0   |   v.repnikov  |0e9dabd6-70c2-4383-9d2c-f930d991b587|\n",
      " select |  00:17:44  |     -      |   900   |  0  |  0   |   v.repnikov  |b27ced03-b6a6-49ab-af00-b59a3b3c833a|\n",
      " select |  00:17:46  |     -      |   360   |  0  |  0   |   v.repnikov  |93fbf8cc-a9e7-4d38-b82c-c557942f70a6|\n",
      " select |  00:17:46  |     -      |   900   |  0  |  0   |   v.repnikov  |32ffcb59-7de3-4e22-9293-4222c855b83a|\n",
      " select |  00:17:46  |     -      |   900   |  0  |  0   |   v.repnikov  |f6c9aee7-744d-4fe2-9c4e-67c2ea8ab758|\n",
      " select |  00:17:46  |     -      |   900   |  0  |  0   |   v.repnikov  |dfff500b-da8d-4b6e-b5fa-da35ff0ac517|\n",
      " select |  00:17:47  |     -      |   900   |  0  |  0   |   v.repnikov  |eba7edc5-b684-4da8-9c4e-f0f570d141c2|\n",
      " select |  00:17:47  |     -      |   900   |  0  |  0   |   v.repnikov  |74fcb3e2-540f-4cd5-813f-93aec21e2bd7|\n",
      " select |  00:17:47  |     -      |   900   |  0  |  0   |   v.repnikov  |598fdee5-bcf2-4416-9a17-b4704fdb7450|\n",
      " select |  00:17:47  |     -      |   900   |  0  |  0   |   v.repnikov  |0bae012c-aeee-4616-9ffa-e2bfa4055fa8|\n",
      " select |  19:55:24  |  19:55:25  |   2700  |  15 |  6   |   v.belyaev   |352efc3b-dca9-475c-a014-9549cb1e3d37|\n",
      " select |  19:55:26  |     -      |   2700  |  0  |  0   |   v.belyaev   |db99d4ff-4b46-43c9-96b7-4f87e22d30ae|\n",
      " select |  20:02:09  |  20:02:10  |   2700  |  1  |  0   |   v.tikhonov  |9f782174-c6ec-4042-94d9-eca55e42465e|\n",
      "\n",
      "07_other_cluster\n",
      "  Type  | created_at | started_at | timeout | all | done |    username   |            operation_id            |\n",
      "---------------------------------------------------------------------------------------------------------------\n",
      " select |  18:41:19  |     -      |   900   |  0  |  0   | a.rasputniaia |187b2020-7e42-49f1-a65c-591e964a57d1|\n",
      " select |  20:02:34  |  20:02:35  |   900   |  1  |  0   |     keanu     |504cdc9b-3112-4654-b933-e07cadc55c9a|\n",
      "\n",
      "10_etl_long\n",
      "  Type  | created_at | started_at | timeout | all | done |    username   |            operation_id            |\n",
      "---------------------------------------------------------------------------------------------------------------\n",
      "  agg   |  17:48:40  |  18:48:11  |  21600  |  31 |  26  | team_marketing|232ecd2e-2ab3-4964-9987-65b9e4c9b596|\n",
      "  agg   |  17:48:40  |     -      |  21600  |  0  |  0   | team_marketing|d9b1e1fb-0a2b-4dee-b518-671df622d00c|\n",
      "  agg   |  17:48:40  |     -      |  21600  |  0  |  0   | team_marketing|764c5652-adc6-43bf-9340-fb735ca8da28|\n",
      "  agg   |  17:48:40  |     -      |  21600  |  0  |  0   | team_marketing|46a790de-4147-457f-91cb-8b2243b7685e|\n",
      "  agg   |  17:48:40  |     -      |  21600  |  0  |  0   | team_marketing|ac7fa8b4-7355-46df-9f56-5c9ef8fffd39|\n",
      "   ab   |  19:53:17  |  19:59:31  |   8000  |  1  |  0   |  team_verdict |1ce1fbc2-1444-4ea9-87ea-2ec677ec29a6|\n",
      "\n",
      "11_etl_normal\n",
      "  Type  | created_at | started_at | timeout | all | done |    username   |            operation_id            |\n",
      "---------------------------------------------------------------------------------------------------------------\n",
      " select |  20:02:39  |     -      |   900   |  0  |  0   |  team_auto_ml |e1c716c9-c8dd-42bd-af5d-9d25d67f9af2|\n",
      " select |  20:02:49  |     -      |   900   |  0  |  0   |vk_video_analytics_team|6992c099-efb9-4b9d-8aeb-bd51f8b8d4c0|\n",
      "\n"
     ]
    }
   ],
   "source": [
    "get_df_status(lol)"
   ]
  },
  {
   "cell_type": "code",
   "execution_count": 266,
   "id": "43979f4d",
   "metadata": {},
   "outputs": [],
   "source": [
    "kek = lol.get_df()\n",
    "kek"
   ]
  },
  {
   "cell_type": "code",
   "execution_count": 269,
   "id": "f12c65ff",
   "metadata": {},
   "outputs": [
    {
     "data": {
      "text/html": [
       "<div>\n",
       "<style scoped>\n",
       "    .dataframe tbody tr th:only-of-type {\n",
       "        vertical-align: middle;\n",
       "    }\n",
       "\n",
       "    .dataframe tbody tr th {\n",
       "        vertical-align: top;\n",
       "    }\n",
       "\n",
       "    .dataframe thead th {\n",
       "        text-align: right;\n",
       "    }\n",
       "</style>\n",
       "<table border=\"1\" class=\"dataframe\">\n",
       "  <thead>\n",
       "    <tr style=\"text-align: right;\">\n",
       "      <th></th>\n",
       "      <th>user_id</th>\n",
       "      <th>owner_id</th>\n",
       "      <th>event_id</th>\n",
       "      <th>attachments.type</th>\n",
       "      <th>attachments.owner_id</th>\n",
       "      <th>attachments.item_id</th>\n",
       "    </tr>\n",
       "  </thead>\n",
       "  <tbody>\n",
       "    <tr>\n",
       "      <th>0</th>\n",
       "      <td>63680825</td>\n",
       "      <td>63680825</td>\n",
       "      <td>1673260609</td>\n",
       "      <td>video</td>\n",
       "      <td>63680825</td>\n",
       "      <td>456239728</td>\n",
       "    </tr>\n",
       "    <tr>\n",
       "      <th>1</th>\n",
       "      <td>63680825</td>\n",
       "      <td>63680825</td>\n",
       "      <td>933094186</td>\n",
       "      <td>video</td>\n",
       "      <td>63680825</td>\n",
       "      <td>456239731</td>\n",
       "    </tr>\n",
       "    <tr>\n",
       "      <th>2</th>\n",
       "      <td>554467967</td>\n",
       "      <td>554467967</td>\n",
       "      <td>364053285</td>\n",
       "      <td>video</td>\n",
       "      <td>554467967</td>\n",
       "      <td>456239760</td>\n",
       "    </tr>\n",
       "    <tr>\n",
       "      <th>3</th>\n",
       "      <td>605248655</td>\n",
       "      <td>605248655</td>\n",
       "      <td>1163497488</td>\n",
       "      <td>video</td>\n",
       "      <td>605248655</td>\n",
       "      <td>456239096</td>\n",
       "    </tr>\n",
       "    <tr>\n",
       "      <th>4</th>\n",
       "      <td>714869439</td>\n",
       "      <td>714869439</td>\n",
       "      <td>338622156</td>\n",
       "      <td>video</td>\n",
       "      <td>-174767238</td>\n",
       "      <td>456239497</td>\n",
       "    </tr>\n",
       "    <tr>\n",
       "      <th>...</th>\n",
       "      <td>...</td>\n",
       "      <td>...</td>\n",
       "      <td>...</td>\n",
       "      <td>...</td>\n",
       "      <td>...</td>\n",
       "      <td>...</td>\n",
       "    </tr>\n",
       "    <tr>\n",
       "      <th>386870</th>\n",
       "      <td>777552865</td>\n",
       "      <td>777552865</td>\n",
       "      <td>816500529</td>\n",
       "      <td>video</td>\n",
       "      <td>777552865</td>\n",
       "      <td>456239074</td>\n",
       "    </tr>\n",
       "    <tr>\n",
       "      <th>386871</th>\n",
       "      <td>156727679</td>\n",
       "      <td>156727679</td>\n",
       "      <td>1748435957</td>\n",
       "      <td>video</td>\n",
       "      <td>156727679</td>\n",
       "      <td>456239530</td>\n",
       "    </tr>\n",
       "    <tr>\n",
       "      <th>386872</th>\n",
       "      <td>850757601</td>\n",
       "      <td>850757601</td>\n",
       "      <td>1739262755</td>\n",
       "      <td>video</td>\n",
       "      <td>850757601</td>\n",
       "      <td>456239025</td>\n",
       "    </tr>\n",
       "    <tr>\n",
       "      <th>386873</th>\n",
       "      <td>589806870</td>\n",
       "      <td>589806870</td>\n",
       "      <td>1075967202</td>\n",
       "      <td>video</td>\n",
       "      <td>589806870</td>\n",
       "      <td>456240621</td>\n",
       "    </tr>\n",
       "    <tr>\n",
       "      <th>386874</th>\n",
       "      <td>707957791</td>\n",
       "      <td>707957791</td>\n",
       "      <td>497945974</td>\n",
       "      <td>video</td>\n",
       "      <td>707957791</td>\n",
       "      <td>456239128</td>\n",
       "    </tr>\n",
       "  </tbody>\n",
       "</table>\n",
       "<p>386875 rows × 6 columns</p>\n",
       "</div>"
      ],
      "text/plain": [
       "          user_id   owner_id    event_id attachments.type  \\\n",
       "0        63680825   63680825  1673260609            video   \n",
       "1        63680825   63680825   933094186            video   \n",
       "2       554467967  554467967   364053285            video   \n",
       "3       605248655  605248655  1163497488            video   \n",
       "4       714869439  714869439   338622156            video   \n",
       "...           ...        ...         ...              ...   \n",
       "386870  777552865  777552865   816500529            video   \n",
       "386871  156727679  156727679  1748435957            video   \n",
       "386872  850757601  850757601  1739262755            video   \n",
       "386873  589806870  589806870  1075967202            video   \n",
       "386874  707957791  707957791   497945974            video   \n",
       "\n",
       "        attachments.owner_id  attachments.item_id  \n",
       "0                   63680825            456239728  \n",
       "1                   63680825            456239731  \n",
       "2                  554467967            456239760  \n",
       "3                  605248655            456239096  \n",
       "4                 -174767238            456239497  \n",
       "...                      ...                  ...  \n",
       "386870             777552865            456239074  \n",
       "386871             156727679            456239530  \n",
       "386872             850757601            456239025  \n",
       "386873             589806870            456240621  \n",
       "386874             707957791            456239128  \n",
       "\n",
       "[386875 rows x 6 columns]"
      ]
     },
     "execution_count": 269,
     "metadata": {},
     "output_type": "execute_result"
    }
   ],
   "source": [
    "kek"
   ]
  },
  {
   "cell_type": "markdown",
   "id": "fbc51fb6",
   "metadata": {},
   "source": [
    "#### кол-во прикрепленных видео в день из сообщества"
   ]
  },
  {
   "cell_type": "code",
   "execution_count": 242,
   "id": "f4edab1b",
   "metadata": {},
   "outputs": [
    {
     "data": {
      "text/plain": [
       "345497"
      ]
     },
     "execution_count": 242,
     "metadata": {},
     "output_type": "execute_result"
    }
   ],
   "source": [
    "208672 + 136825"
   ]
  },
  {
   "cell_type": "code",
   "execution_count": 165,
   "id": "1a259623",
   "metadata": {},
   "outputs": [],
   "source": [
    "### Видео из сообщества (добавил в сообещство свое видео) + видео из ютубов и тд"
   ]
  },
  {
   "cell_type": "code",
   "execution_count": 238,
   "id": "a03f5f6f",
   "metadata": {},
   "outputs": [],
   "source": [
    "sql_top = '''\n",
    "WITH t1 AS (\n",
    "SELECT\n",
    "    user_id,\n",
    "    event_id,\n",
    "    video_id, \n",
    "    video_owner_id\n",
    "FROM video_playlist_events\n",
    "WHERE dt >= yesterday() - 14\n",
    "AND event_type = 'add_video'\n",
    "and playlist_owner_id < 0\n",
    "and intHash64(user_id) % $shards_num = $shard\n",
    "GROUP BY user_id, event_id, video_id, video_owner_id\n",
    "),\n",
    "\n",
    "t2 AS (\n",
    "SELECT \n",
    "    user_id, \n",
    "    attachments.type, \n",
    "    attachments.owner_id, \n",
    "    attachments.item_id\n",
    "FROM\n",
    "    (SELECT \n",
    "        user_id,\n",
    "        event_id,\n",
    "        attachments.type, \n",
    "        attachments.owner_id, \n",
    "        attachments.item_id\n",
    "    FROM posting \n",
    "    WHERE dt = yesterday()\n",
    "    AND event_type LIKE 'post_%'\n",
    "    AND owner_id < 0\n",
    "    AND has(attachments.type, 'video')\n",
    "    GROUP BY user_id, event_id, attachments.type, attachments.owner_id, attachments.item_id)\n",
    "ARRAY JOIN attachments.type, attachments.owner_id, attachments.item_id\n",
    "WHERE attachments.type = 'video'\n",
    "and intHash64(user_id) % $shards_num = $shard\n",
    ")\n",
    "\n",
    "SELECT\n",
    "    user_id\n",
    "FROM t2\n",
    "INNER JOIN t1 ON t1.video_id = t2.attachments.item_id AND t1.video_owner_id = t2.attachments.owner_id\n",
    "'''"
   ]
  },
  {
   "cell_type": "code",
   "execution_count": 239,
   "id": "3cffdb97",
   "metadata": {},
   "outputs": [
    {
     "data": {
      "text/plain": [
       "{'operation_id': 'c6964450-25cb-4b57-a4c2-ecf9fb479580',\n",
       " 'agg_operation_id': '899157db-ef29-4231-ab13-88c0ded63f2b',\n",
       " 'replica_num': 1,\n",
       " 'host': 'ch814601',\n",
       " 'table_name': 'vtikhonov_2024_06_28_19_36_00_394174',\n",
       " 'queue_position': 0,\n",
       " 'pipeline_id': '899157db-ef29-4231-ab13-88c0ded63f2b',\n",
       " 'check_version': False}"
      ]
     },
     "execution_count": 239,
     "metadata": {},
     "output_type": "execute_result"
    }
   ],
   "source": [
    "select100 = Select(client, sql_top, granularity=1)\n",
    "select100.run()"
   ]
  },
  {
   "cell_type": "code",
   "execution_count": 240,
   "id": "c3293302",
   "metadata": {},
   "outputs": [
    {
     "name": "stdout",
     "output_type": "stream",
     "text": [
      "running agg 0/1\n",
      "02_long\n",
      "  Type  | created_at | started_at | timeout | all | done |    username   |            operation_id            |\n",
      "---------------------------------------------------------------------------------------------------------------\n",
      "  agg   |  18:26:06  |  18:26:06  |  21600  | 226 |  33  |    o.belov    |be5ee9a6-7705-4804-9881-faad3d8efb0d|\n",
      " select |  19:36:26  |  19:36:27  |  21600  |  1  |  0   |  o.kulalaeva  |47999cab-2968-4161-81ed-105c6d14d41f|\n",
      "\n",
      "03_normal\n",
      "  Type  | created_at | started_at | timeout | all | done |    username   |            operation_id            |\n",
      "---------------------------------------------------------------------------------------------------------------\n",
      " select |  00:17:41  |     -      |   900   |  0  |  0   |   v.repnikov  |c13398d3-455a-4f7f-b107-97c313507e26|\n",
      " select |  00:17:41  |     -      |   900   |  0  |  0   |   v.repnikov  |2f914087-6fdf-4e52-9605-e61d9ebb8bf5|\n",
      " select |  00:17:41  |     -      |   900   |  0  |  0   |   v.repnikov  |499ae460-b379-4507-bdb5-531f738d1798|\n",
      " select |  00:17:42  |     -      |   900   |  0  |  0   |   v.repnikov  |5fdce3ec-d81a-48cd-b51d-d1c23c2bf71f|\n",
      " select |  00:17:43  |     -      |   900   |  0  |  0   |   v.repnikov  |437a4ba5-6173-4442-9864-98388a946fdc|\n",
      " select |  00:17:43  |     -      |   900   |  0  |  0   |   v.repnikov  |7a2c40a3-e575-48a1-9911-68f9685acf92|\n",
      " select |  00:17:44  |     -      |   2700  |  0  |  0   |   v.repnikov  |330f0db1-0eb0-47ba-887e-290f28ed38f7|\n",
      " select |  00:17:44  |     -      |   900   |  0  |  0   |   v.repnikov  |0e9dabd6-70c2-4383-9d2c-f930d991b587|\n",
      " select |  00:17:44  |     -      |   900   |  0  |  0   |   v.repnikov  |b27ced03-b6a6-49ab-af00-b59a3b3c833a|\n",
      " select |  00:17:46  |     -      |   360   |  0  |  0   |   v.repnikov  |93fbf8cc-a9e7-4d38-b82c-c557942f70a6|\n",
      " select |  00:17:46  |     -      |   900   |  0  |  0   |   v.repnikov  |32ffcb59-7de3-4e22-9293-4222c855b83a|\n",
      " select |  00:17:46  |     -      |   900   |  0  |  0   |   v.repnikov  |f6c9aee7-744d-4fe2-9c4e-67c2ea8ab758|\n",
      " select |  00:17:46  |     -      |   900   |  0  |  0   |   v.repnikov  |dfff500b-da8d-4b6e-b5fa-da35ff0ac517|\n",
      " select |  00:17:47  |     -      |   900   |  0  |  0   |   v.repnikov  |eba7edc5-b684-4da8-9c4e-f0f570d141c2|\n",
      " select |  00:17:47  |     -      |   900   |  0  |  0   |   v.repnikov  |74fcb3e2-540f-4cd5-813f-93aec21e2bd7|\n",
      " select |  00:17:47  |     -      |   900   |  0  |  0   |   v.repnikov  |598fdee5-bcf2-4416-9a17-b4704fdb7450|\n",
      " select |  00:17:47  |     -      |   900   |  0  |  0   |   v.repnikov  |0bae012c-aeee-4616-9ffa-e2bfa4055fa8|\n",
      " select |  19:36:01  |  19:36:02  |   2700  |  1  |  0   |   v.tikhonov  |c6964450-25cb-4b57-a4c2-ecf9fb479580|\n",
      "\n",
      "07_other_cluster\n",
      "  Type  | created_at | started_at | timeout | all | done |    username   |            operation_id            |\n",
      "---------------------------------------------------------------------------------------------------------------\n",
      " select |  17:40:43  |  19:29:31  |   900   |  1  |  0   | a.rasputniaia |1d96d89a-3623-44bc-89dc-db23c74815c9|\n",
      " select |  18:06:37  |     -      |   900   |  0  |  0   | a.rasputniaia |e9d48b77-e71e-4f20-ade8-ad17cbf58b9a|\n",
      " select |  18:25:24  |     -      |   900   |  0  |  0   | a.rasputniaia |d5fa2d8a-40ca-4eb0-a79a-8041012ec3cc|\n",
      " select |  18:41:19  |     -      |   900   |  0  |  0   | a.rasputniaia |187b2020-7e42-49f1-a65c-591e964a57d1|\n",
      "\n",
      "10_etl_long\n",
      "  Type  | created_at | started_at | timeout | all | done |    username   |            operation_id            |\n",
      "---------------------------------------------------------------------------------------------------------------\n",
      "  agg   |  17:48:40  |  18:48:11  |  21600  |  31 |  16  | team_marketing|232ecd2e-2ab3-4964-9987-65b9e4c9b596|\n",
      "  agg   |  17:48:40  |     -      |  21600  |  0  |  0   | team_marketing|d9b1e1fb-0a2b-4dee-b518-671df622d00c|\n",
      "  agg   |  17:48:40  |     -      |  21600  |  0  |  0   | team_marketing|764c5652-adc6-43bf-9340-fb735ca8da28|\n",
      "  agg   |  17:48:40  |     -      |  21600  |  0  |  0   | team_marketing|46a790de-4147-457f-91cb-8b2243b7685e|\n",
      "  agg   |  17:48:40  |     -      |  21600  |  0  |  0   | team_marketing|ac7fa8b4-7355-46df-9f56-5c9ef8fffd39|\n",
      "   ab   |  19:21:56  |  19:31:24  |   8000  |  1  |  0   |  team_verdict |ddf7de30-bafd-48db-9b3c-8695de36f880|\n",
      "   ab   |  19:33:05  |  19:35:25  |   8000  |  1  |  0   |  team_verdict |66f2c8c0-52bf-4a34-ad51-9bf4fed10545|\n",
      "   ab   |  19:33:05  |     -      |   8000  |  0  |  0   |  team_verdict |ede8fee8-252b-47d8-a653-99dbba0944e4|\n",
      "\n",
      "13_etl_main\n",
      "  Type  | created_at | started_at | timeout | all | done |    username   |            operation_id            |\n",
      "---------------------------------------------------------------------------------------------------------------\n",
      "  agg   |  19:34:42  |  19:34:42  |   9000  |  26 |  6   |team_product_analytics|0dd16ae4-23e6-415d-a4d5-1da6e2b95c2a|\n",
      "\n"
     ]
    }
   ],
   "source": [
    "get_df_status(select100)"
   ]
  },
  {
   "cell_type": "code",
   "execution_count": 241,
   "id": "5356d3fd",
   "metadata": {},
   "outputs": [
    {
     "data": {
      "text/html": [
       "<div>\n",
       "<style scoped>\n",
       "    .dataframe tbody tr th:only-of-type {\n",
       "        vertical-align: middle;\n",
       "    }\n",
       "\n",
       "    .dataframe tbody tr th {\n",
       "        vertical-align: top;\n",
       "    }\n",
       "\n",
       "    .dataframe thead th {\n",
       "        text-align: right;\n",
       "    }\n",
       "</style>\n",
       "<table border=\"1\" class=\"dataframe\">\n",
       "  <thead>\n",
       "    <tr style=\"text-align: right;\">\n",
       "      <th></th>\n",
       "      <th>count()</th>\n",
       "    </tr>\n",
       "  </thead>\n",
       "  <tbody>\n",
       "    <tr>\n",
       "      <th>0</th>\n",
       "      <td>208672</td>\n",
       "    </tr>\n",
       "  </tbody>\n",
       "</table>\n",
       "</div>"
      ],
      "text/plain": [
       "   count()\n",
       "0   208672"
      ]
     },
     "execution_count": 241,
     "metadata": {},
     "output_type": "execute_result"
    }
   ],
   "source": [
    "select100.get_df(query='SELECT count() FROM $table')"
   ]
  },
  {
   "cell_type": "code",
   "execution_count": 166,
   "id": "3084060a",
   "metadata": {},
   "outputs": [],
   "source": [
    "### Видео из сообщества (загрузил видео) если видео, а не клип"
   ]
  },
  {
   "cell_type": "code",
   "execution_count": 226,
   "id": "55d38ca7",
   "metadata": {},
   "outputs": [],
   "source": [
    "sql = '''\n",
    "WITH t1 AS (\n",
    "SELECT\n",
    "    user_id,\n",
    "    event_id,\n",
    "    video_id, \n",
    "    video_owner_id\n",
    "FROM video_publish\n",
    "WHERE dt >= yesterday() - 14\n",
    "AND event_type = 'publish_video'\n",
    "and intHash64(user_id) % $shards_num = $shard\n",
    "GROUP BY user_id, event_id, video_id, video_owner_id\n",
    "),\n",
    "\n",
    "t2 AS (\n",
    "SELECT \n",
    "    user_id, \n",
    "    attachments.type, \n",
    "    attachments.owner_id, \n",
    "    attachments.item_id\n",
    "FROM\n",
    "    (SELECT \n",
    "        user_id,\n",
    "        event_id,\n",
    "        attachments.type, \n",
    "        attachments.owner_id, \n",
    "        attachments.item_id\n",
    "    FROM posting \n",
    "    WHERE dt = yesterday()\n",
    "    AND event_type LIKE 'post_%'\n",
    "    AND owner_id < 0\n",
    "    AND has(attachments.type, 'video')\n",
    "    GROUP BY user_id, event_id, attachments.type, attachments.owner_id, attachments.item_id)\n",
    "ARRAY JOIN attachments.type, attachments.owner_id, attachments.item_id\n",
    "WHERE attachments.type = 'video'\n",
    "and intHash64(user_id) % $shards_num = $shard\n",
    ")\n",
    "\n",
    "SELECT\n",
    "    user_id\n",
    "FROM t2\n",
    "INNER JOIN t1 ON t1.video_id = t2.attachments.item_id AND t1.video_owner_id = t2.attachments.owner_id\n",
    "'''"
   ]
  },
  {
   "cell_type": "code",
   "execution_count": 227,
   "id": "0de2e4f8",
   "metadata": {},
   "outputs": [
    {
     "data": {
      "text/plain": [
       "{'operation_id': 'b825c9ed-071f-4cc9-8447-5ec9359781ab',\n",
       " 'agg_operation_id': '8127fa3e-ed68-48f4-9c89-7e3c2f783151',\n",
       " 'replica_num': 0,\n",
       " 'host': 'ch814600',\n",
       " 'table_name': 'vtikhonov_2024_06_28_19_30_05_273964',\n",
       " 'queue_position': 0,\n",
       " 'pipeline_id': '8127fa3e-ed68-48f4-9c89-7e3c2f783151',\n",
       " 'check_version': False}"
      ]
     },
     "execution_count": 227,
     "metadata": {},
     "output_type": "execute_result"
    }
   ],
   "source": [
    "select = Select(client, sql, granularity=1)\n",
    "select.run()"
   ]
  },
  {
   "cell_type": "code",
   "execution_count": 231,
   "id": "5f643e9a",
   "metadata": {},
   "outputs": [
    {
     "name": "stdout",
     "output_type": "stream",
     "text": [
      "running agg 0/1\n",
      "02_long\n",
      "  Type  | created_at | started_at | timeout | all | done |    username   |            operation_id            |\n",
      "---------------------------------------------------------------------------------------------------------------\n",
      "  agg   |  18:26:06  |  18:26:06  |  21600  | 226 |  28  |    o.belov    |be5ee9a6-7705-4804-9881-faad3d8efb0d|\n",
      " select |  19:04:40  |  19:04:41  |  21600  |  1  |  0   | e.kozhevnikov |ab815639-1291-4814-ac4a-8200961b3037|\n",
      "\n",
      "03_normal\n",
      "  Type  | created_at | started_at | timeout | all | done |    username   |            operation_id            |\n",
      "---------------------------------------------------------------------------------------------------------------\n",
      " select |  00:17:41  |     -      |   900   |  0  |  0   |   v.repnikov  |c13398d3-455a-4f7f-b107-97c313507e26|\n",
      " select |  00:17:41  |     -      |   900   |  0  |  0   |   v.repnikov  |2f914087-6fdf-4e52-9605-e61d9ebb8bf5|\n",
      " select |  00:17:41  |     -      |   900   |  0  |  0   |   v.repnikov  |499ae460-b379-4507-bdb5-531f738d1798|\n",
      " select |  00:17:42  |     -      |   900   |  0  |  0   |   v.repnikov  |5fdce3ec-d81a-48cd-b51d-d1c23c2bf71f|\n",
      " select |  00:17:43  |     -      |   900   |  0  |  0   |   v.repnikov  |437a4ba5-6173-4442-9864-98388a946fdc|\n",
      " select |  00:17:43  |     -      |   900   |  0  |  0   |   v.repnikov  |7a2c40a3-e575-48a1-9911-68f9685acf92|\n",
      " select |  00:17:44  |     -      |   2700  |  0  |  0   |   v.repnikov  |330f0db1-0eb0-47ba-887e-290f28ed38f7|\n",
      " select |  00:17:44  |     -      |   900   |  0  |  0   |   v.repnikov  |0e9dabd6-70c2-4383-9d2c-f930d991b587|\n",
      " select |  00:17:44  |     -      |   900   |  0  |  0   |   v.repnikov  |b27ced03-b6a6-49ab-af00-b59a3b3c833a|\n",
      " select |  00:17:46  |     -      |   360   |  0  |  0   |   v.repnikov  |93fbf8cc-a9e7-4d38-b82c-c557942f70a6|\n",
      " select |  00:17:46  |     -      |   900   |  0  |  0   |   v.repnikov  |32ffcb59-7de3-4e22-9293-4222c855b83a|\n",
      " select |  00:17:46  |     -      |   900   |  0  |  0   |   v.repnikov  |f6c9aee7-744d-4fe2-9c4e-67c2ea8ab758|\n",
      " select |  00:17:46  |     -      |   900   |  0  |  0   |   v.repnikov  |dfff500b-da8d-4b6e-b5fa-da35ff0ac517|\n",
      " select |  00:17:47  |     -      |   900   |  0  |  0   |   v.repnikov  |eba7edc5-b684-4da8-9c4e-f0f570d141c2|\n",
      " select |  00:17:47  |     -      |   900   |  0  |  0   |   v.repnikov  |74fcb3e2-540f-4cd5-813f-93aec21e2bd7|\n",
      " select |  00:17:47  |     -      |   900   |  0  |  0   |   v.repnikov  |598fdee5-bcf2-4416-9a17-b4704fdb7450|\n",
      " select |  00:17:47  |     -      |   900   |  0  |  0   |   v.repnikov  |0bae012c-aeee-4616-9ffa-e2bfa4055fa8|\n",
      " select |  19:30:06  |  19:30:06  |   2700  |  1  |  0   |   v.tikhonov  |b825c9ed-071f-4cc9-8447-5ec9359781ab|\n",
      "\n",
      "07_other_cluster\n",
      "  Type  | created_at | started_at | timeout | all | done |    username   |            operation_id            |\n",
      "---------------------------------------------------------------------------------------------------------------\n",
      " select |  17:40:43  |  19:29:31  |   900   |  1  |  0   | a.rasputniaia |1d96d89a-3623-44bc-89dc-db23c74815c9|\n",
      " select |  18:06:37  |     -      |   900   |  0  |  0   | a.rasputniaia |e9d48b77-e71e-4f20-ade8-ad17cbf58b9a|\n",
      " select |  18:25:24  |     -      |   900   |  0  |  0   | a.rasputniaia |d5fa2d8a-40ca-4eb0-a79a-8041012ec3cc|\n",
      " select |  18:41:19  |     -      |   900   |  0  |  0   | a.rasputniaia |187b2020-7e42-49f1-a65c-591e964a57d1|\n",
      "\n",
      "10_etl_long\n",
      "  Type  | created_at | started_at | timeout | all | done |    username   |            operation_id            |\n",
      "---------------------------------------------------------------------------------------------------------------\n",
      "  agg   |  17:48:40  |  18:48:11  |  21600  |  31 |  14  | team_marketing|232ecd2e-2ab3-4964-9987-65b9e4c9b596|\n",
      "  agg   |  17:48:40  |     -      |  21600  |  0  |  0   | team_marketing|d9b1e1fb-0a2b-4dee-b518-671df622d00c|\n",
      "  agg   |  17:48:40  |     -      |  21600  |  0  |  0   | team_marketing|764c5652-adc6-43bf-9340-fb735ca8da28|\n",
      "  agg   |  17:48:40  |     -      |  21600  |  0  |  0   | team_marketing|46a790de-4147-457f-91cb-8b2243b7685e|\n",
      "  agg   |  17:48:40  |     -      |  21600  |  0  |  0   | team_marketing|ac7fa8b4-7355-46df-9f56-5c9ef8fffd39|\n",
      "   ab   |  19:18:38  |  19:29:31  |   8000  |  1  |  0   |  team_verdict |2f6b8090-a44b-4ae9-88e0-5642e864a1ab|\n",
      "   ab   |  19:21:56  |  19:24:35  |   8000  |  1  |  0   |  team_verdict |b9556ee6-a914-474b-ae6d-91ccb3f6d684|\n",
      "   ab   |  19:21:56  |     -      |   8000  |  0  |  0   |  team_verdict |ddf7de30-bafd-48db-9b3c-8695de36f880|\n",
      "\n",
      "11_etl_normal\n",
      "  Type  | created_at | started_at | timeout | all | done |    username   |            operation_id            |\n",
      "---------------------------------------------------------------------------------------------------------------\n",
      " select |  19:30:27  |  19:30:28  |   900   |  1  |  0   | team_marketing|00308d2a-743a-4d9f-86c8-a48dd9db8f69|\n",
      "\n",
      "13_etl_main\n",
      "  Type  | created_at | started_at | timeout | all | done |    username   |            operation_id            |\n",
      "---------------------------------------------------------------------------------------------------------------\n",
      "  agg   |  19:27:17  |  19:27:17  |   9000  |  26 |  10  |team_product_analytics|81015bc5-c738-43f9-b3ae-71271ef9a885|\n",
      "\n"
     ]
    }
   ],
   "source": [
    "get_df_status(select)"
   ]
  },
  {
   "cell_type": "code",
   "execution_count": 232,
   "id": "2fe1157b",
   "metadata": {},
   "outputs": [
    {
     "data": {
      "text/html": [
       "<div>\n",
       "<style scoped>\n",
       "    .dataframe tbody tr th:only-of-type {\n",
       "        vertical-align: middle;\n",
       "    }\n",
       "\n",
       "    .dataframe tbody tr th {\n",
       "        vertical-align: top;\n",
       "    }\n",
       "\n",
       "    .dataframe thead th {\n",
       "        text-align: right;\n",
       "    }\n",
       "</style>\n",
       "<table border=\"1\" class=\"dataframe\">\n",
       "  <thead>\n",
       "    <tr style=\"text-align: right;\">\n",
       "      <th></th>\n",
       "      <th>count()</th>\n",
       "    </tr>\n",
       "  </thead>\n",
       "  <tbody>\n",
       "    <tr>\n",
       "      <th>0</th>\n",
       "      <td>136825</td>\n",
       "    </tr>\n",
       "  </tbody>\n",
       "</table>\n",
       "</div>"
      ],
      "text/plain": [
       "   count()\n",
       "0   136825"
      ]
     },
     "execution_count": 232,
     "metadata": {},
     "output_type": "execute_result"
    }
   ],
   "source": [
    "select.get_df(wait=True, query='SELECT count() FROM $table')"
   ]
  },
  {
   "cell_type": "code",
   "execution_count": null,
   "id": "ea282ff5",
   "metadata": {},
   "outputs": [],
   "source": []
  }
 ],
 "metadata": {
  "kernelspec": {
   "display_name": "v.tikhonov",
   "language": "python",
   "name": "v.tikhonov"
  },
  "language_info": {
   "codemirror_mode": {
    "name": "ipython",
    "version": 3
   },
   "file_extension": ".py",
   "mimetype": "text/x-python",
   "name": "python",
   "nbconvert_exporter": "python",
   "pygments_lexer": "ipython3",
   "version": "3.11.6"
  }
 },
 "nbformat": 4,
 "nbformat_minor": 5
}
