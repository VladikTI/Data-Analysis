{
 "cells": [
  {
   "cell_type": "code",
   "execution_count": 206,
   "id": "b847c586",
   "metadata": {
    "scrolled": true
   },
   "outputs": [],
   "source": [
    "import pandas as pd\n",
    "import numpy as np\n",
    "\n",
    "import matplotlib.pyplot as plt\n",
    "\n",
    "import seaborn as sns\n"
   ]
  },
  {
   "cell_type": "code",
   "execution_count": 207,
   "id": "76316527",
   "metadata": {},
   "outputs": [],
   "source": [
    "df = pd.read_csv('Москва_2021.txt', sep = ' ', header=None)\n",
    "df.columns = ['age']"
   ]
  },
  {
   "cell_type": "code",
   "execution_count": 208,
   "id": "ac1bfbbe",
   "metadata": {},
   "outputs": [
    {
     "data": {
      "text/html": [
       "<div>\n",
       "<style scoped>\n",
       "    .dataframe tbody tr th:only-of-type {\n",
       "        vertical-align: middle;\n",
       "    }\n",
       "\n",
       "    .dataframe tbody tr th {\n",
       "        vertical-align: top;\n",
       "    }\n",
       "\n",
       "    .dataframe thead th {\n",
       "        text-align: right;\n",
       "    }\n",
       "</style>\n",
       "<table border=\"1\" class=\"dataframe\">\n",
       "  <thead>\n",
       "    <tr style=\"text-align: right;\">\n",
       "      <th></th>\n",
       "      <th>age</th>\n",
       "    </tr>\n",
       "  </thead>\n",
       "  <tbody>\n",
       "    <tr>\n",
       "      <th>1980</th>\n",
       "      <td>14</td>\n",
       "    </tr>\n",
       "    <tr>\n",
       "      <th>15874</th>\n",
       "      <td>14</td>\n",
       "    </tr>\n",
       "    <tr>\n",
       "      <th>27638</th>\n",
       "      <td>14</td>\n",
       "    </tr>\n",
       "    <tr>\n",
       "      <th>20655</th>\n",
       "      <td>14</td>\n",
       "    </tr>\n",
       "    <tr>\n",
       "      <th>29875</th>\n",
       "      <td>14</td>\n",
       "    </tr>\n",
       "    <tr>\n",
       "      <th>...</th>\n",
       "      <td>...</td>\n",
       "    </tr>\n",
       "    <tr>\n",
       "      <th>14586</th>\n",
       "      <td>73</td>\n",
       "    </tr>\n",
       "    <tr>\n",
       "      <th>20178</th>\n",
       "      <td>73</td>\n",
       "    </tr>\n",
       "    <tr>\n",
       "      <th>11895</th>\n",
       "      <td>73</td>\n",
       "    </tr>\n",
       "    <tr>\n",
       "      <th>1228</th>\n",
       "      <td>73</td>\n",
       "    </tr>\n",
       "    <tr>\n",
       "      <th>30413</th>\n",
       "      <td>73</td>\n",
       "    </tr>\n",
       "  </tbody>\n",
       "</table>\n",
       "<p>32423 rows × 1 columns</p>\n",
       "</div>"
      ],
      "text/plain": [
       "       age\n",
       "1980    14\n",
       "15874   14\n",
       "27638   14\n",
       "20655   14\n",
       "29875   14\n",
       "...    ...\n",
       "14586   73\n",
       "20178   73\n",
       "11895   73\n",
       "1228    73\n",
       "30413   73\n",
       "\n",
       "[32423 rows x 1 columns]"
      ]
     },
     "execution_count": 208,
     "metadata": {},
     "output_type": "execute_result"
    }
   ],
   "source": [
    "df = df.sort_values(by='age')\n",
    "df"
   ]
  },
  {
   "cell_type": "markdown",
   "id": "b53ff1f1",
   "metadata": {},
   "source": [
    "# строим дискретный ряд"
   ]
  },
  {
   "cell_type": "code",
   "execution_count": 209,
   "id": "46e9ebde",
   "metadata": {},
   "outputs": [],
   "source": [
    "age = list(df.age.unique())\n",
    "age.sort()"
   ]
  },
  {
   "cell_type": "code",
   "execution_count": 210,
   "id": "51d04241",
   "metadata": {},
   "outputs": [],
   "source": [
    "frequency = [int(df[df.age == i].count()) for i in age]"
   ]
  },
  {
   "cell_type": "code",
   "execution_count": 211,
   "id": "dcb3cd05",
   "metadata": {},
   "outputs": [],
   "source": [
    "d_series = pd.DataFrame({'age': age,\n",
    "                        'frequency': frequency})"
   ]
  },
  {
   "cell_type": "code",
   "execution_count": 212,
   "id": "9db8fb4b",
   "metadata": {
    "scrolled": true
   },
   "outputs": [
    {
     "data": {
      "text/html": [
       "<div>\n",
       "<style scoped>\n",
       "    .dataframe tbody tr th:only-of-type {\n",
       "        vertical-align: middle;\n",
       "    }\n",
       "\n",
       "    .dataframe tbody tr th {\n",
       "        vertical-align: top;\n",
       "    }\n",
       "\n",
       "    .dataframe thead th {\n",
       "        text-align: right;\n",
       "    }\n",
       "</style>\n",
       "<table border=\"1\" class=\"dataframe\">\n",
       "  <thead>\n",
       "    <tr style=\"text-align: right;\">\n",
       "      <th></th>\n",
       "      <th>age</th>\n",
       "      <th>frequency</th>\n",
       "    </tr>\n",
       "  </thead>\n",
       "  <tbody>\n",
       "    <tr>\n",
       "      <th>0</th>\n",
       "      <td>14</td>\n",
       "      <td>49</td>\n",
       "    </tr>\n",
       "    <tr>\n",
       "      <th>1</th>\n",
       "      <td>15</td>\n",
       "      <td>53</td>\n",
       "    </tr>\n",
       "    <tr>\n",
       "      <th>2</th>\n",
       "      <td>16</td>\n",
       "      <td>236</td>\n",
       "    </tr>\n",
       "    <tr>\n",
       "      <th>3</th>\n",
       "      <td>17</td>\n",
       "      <td>126</td>\n",
       "    </tr>\n",
       "    <tr>\n",
       "      <th>4</th>\n",
       "      <td>18</td>\n",
       "      <td>806</td>\n",
       "    </tr>\n",
       "    <tr>\n",
       "      <th>5</th>\n",
       "      <td>19</td>\n",
       "      <td>971</td>\n",
       "    </tr>\n",
       "    <tr>\n",
       "      <th>6</th>\n",
       "      <td>20</td>\n",
       "      <td>910</td>\n",
       "    </tr>\n",
       "    <tr>\n",
       "      <th>7</th>\n",
       "      <td>21</td>\n",
       "      <td>716</td>\n",
       "    </tr>\n",
       "    <tr>\n",
       "      <th>8</th>\n",
       "      <td>22</td>\n",
       "      <td>944</td>\n",
       "    </tr>\n",
       "    <tr>\n",
       "      <th>9</th>\n",
       "      <td>23</td>\n",
       "      <td>1071</td>\n",
       "    </tr>\n",
       "    <tr>\n",
       "      <th>10</th>\n",
       "      <td>24</td>\n",
       "      <td>810</td>\n",
       "    </tr>\n",
       "    <tr>\n",
       "      <th>11</th>\n",
       "      <td>25</td>\n",
       "      <td>1050</td>\n",
       "    </tr>\n",
       "    <tr>\n",
       "      <th>12</th>\n",
       "      <td>26</td>\n",
       "      <td>980</td>\n",
       "    </tr>\n",
       "    <tr>\n",
       "      <th>13</th>\n",
       "      <td>27</td>\n",
       "      <td>1263</td>\n",
       "    </tr>\n",
       "    <tr>\n",
       "      <th>14</th>\n",
       "      <td>28</td>\n",
       "      <td>1113</td>\n",
       "    </tr>\n",
       "    <tr>\n",
       "      <th>15</th>\n",
       "      <td>29</td>\n",
       "      <td>1340</td>\n",
       "    </tr>\n",
       "    <tr>\n",
       "      <th>16</th>\n",
       "      <td>30</td>\n",
       "      <td>734</td>\n",
       "    </tr>\n",
       "    <tr>\n",
       "      <th>17</th>\n",
       "      <td>31</td>\n",
       "      <td>1115</td>\n",
       "    </tr>\n",
       "    <tr>\n",
       "      <th>18</th>\n",
       "      <td>32</td>\n",
       "      <td>796</td>\n",
       "    </tr>\n",
       "    <tr>\n",
       "      <th>19</th>\n",
       "      <td>33</td>\n",
       "      <td>758</td>\n",
       "    </tr>\n",
       "    <tr>\n",
       "      <th>20</th>\n",
       "      <td>34</td>\n",
       "      <td>869</td>\n",
       "    </tr>\n",
       "    <tr>\n",
       "      <th>21</th>\n",
       "      <td>35</td>\n",
       "      <td>676</td>\n",
       "    </tr>\n",
       "    <tr>\n",
       "      <th>22</th>\n",
       "      <td>36</td>\n",
       "      <td>1198</td>\n",
       "    </tr>\n",
       "    <tr>\n",
       "      <th>23</th>\n",
       "      <td>37</td>\n",
       "      <td>522</td>\n",
       "    </tr>\n",
       "    <tr>\n",
       "      <th>24</th>\n",
       "      <td>38</td>\n",
       "      <td>1006</td>\n",
       "    </tr>\n",
       "    <tr>\n",
       "      <th>25</th>\n",
       "      <td>39</td>\n",
       "      <td>695</td>\n",
       "    </tr>\n",
       "    <tr>\n",
       "      <th>26</th>\n",
       "      <td>40</td>\n",
       "      <td>723</td>\n",
       "    </tr>\n",
       "    <tr>\n",
       "      <th>27</th>\n",
       "      <td>41</td>\n",
       "      <td>837</td>\n",
       "    </tr>\n",
       "    <tr>\n",
       "      <th>28</th>\n",
       "      <td>42</td>\n",
       "      <td>978</td>\n",
       "    </tr>\n",
       "    <tr>\n",
       "      <th>29</th>\n",
       "      <td>43</td>\n",
       "      <td>820</td>\n",
       "    </tr>\n",
       "    <tr>\n",
       "      <th>30</th>\n",
       "      <td>44</td>\n",
       "      <td>1032</td>\n",
       "    </tr>\n",
       "    <tr>\n",
       "      <th>31</th>\n",
       "      <td>45</td>\n",
       "      <td>690</td>\n",
       "    </tr>\n",
       "    <tr>\n",
       "      <th>32</th>\n",
       "      <td>46</td>\n",
       "      <td>677</td>\n",
       "    </tr>\n",
       "    <tr>\n",
       "      <th>33</th>\n",
       "      <td>47</td>\n",
       "      <td>831</td>\n",
       "    </tr>\n",
       "    <tr>\n",
       "      <th>34</th>\n",
       "      <td>48</td>\n",
       "      <td>1026</td>\n",
       "    </tr>\n",
       "    <tr>\n",
       "      <th>35</th>\n",
       "      <td>49</td>\n",
       "      <td>1060</td>\n",
       "    </tr>\n",
       "    <tr>\n",
       "      <th>36</th>\n",
       "      <td>50</td>\n",
       "      <td>150</td>\n",
       "    </tr>\n",
       "    <tr>\n",
       "      <th>37</th>\n",
       "      <td>51</td>\n",
       "      <td>188</td>\n",
       "    </tr>\n",
       "    <tr>\n",
       "      <th>38</th>\n",
       "      <td>52</td>\n",
       "      <td>193</td>\n",
       "    </tr>\n",
       "    <tr>\n",
       "      <th>39</th>\n",
       "      <td>53</td>\n",
       "      <td>47</td>\n",
       "    </tr>\n",
       "    <tr>\n",
       "      <th>40</th>\n",
       "      <td>54</td>\n",
       "      <td>26</td>\n",
       "    </tr>\n",
       "    <tr>\n",
       "      <th>41</th>\n",
       "      <td>55</td>\n",
       "      <td>62</td>\n",
       "    </tr>\n",
       "    <tr>\n",
       "      <th>42</th>\n",
       "      <td>56</td>\n",
       "      <td>76</td>\n",
       "    </tr>\n",
       "    <tr>\n",
       "      <th>43</th>\n",
       "      <td>57</td>\n",
       "      <td>136</td>\n",
       "    </tr>\n",
       "    <tr>\n",
       "      <th>44</th>\n",
       "      <td>58</td>\n",
       "      <td>262</td>\n",
       "    </tr>\n",
       "    <tr>\n",
       "      <th>45</th>\n",
       "      <td>59</td>\n",
       "      <td>74</td>\n",
       "    </tr>\n",
       "    <tr>\n",
       "      <th>46</th>\n",
       "      <td>60</td>\n",
       "      <td>266</td>\n",
       "    </tr>\n",
       "    <tr>\n",
       "      <th>47</th>\n",
       "      <td>61</td>\n",
       "      <td>226</td>\n",
       "    </tr>\n",
       "    <tr>\n",
       "      <th>48</th>\n",
       "      <td>62</td>\n",
       "      <td>139</td>\n",
       "    </tr>\n",
       "    <tr>\n",
       "      <th>49</th>\n",
       "      <td>63</td>\n",
       "      <td>183</td>\n",
       "    </tr>\n",
       "    <tr>\n",
       "      <th>50</th>\n",
       "      <td>64</td>\n",
       "      <td>189</td>\n",
       "    </tr>\n",
       "    <tr>\n",
       "      <th>51</th>\n",
       "      <td>65</td>\n",
       "      <td>79</td>\n",
       "    </tr>\n",
       "    <tr>\n",
       "      <th>52</th>\n",
       "      <td>66</td>\n",
       "      <td>188</td>\n",
       "    </tr>\n",
       "    <tr>\n",
       "      <th>53</th>\n",
       "      <td>67</td>\n",
       "      <td>128</td>\n",
       "    </tr>\n",
       "    <tr>\n",
       "      <th>54</th>\n",
       "      <td>69</td>\n",
       "      <td>202</td>\n",
       "    </tr>\n",
       "    <tr>\n",
       "      <th>55</th>\n",
       "      <td>70</td>\n",
       "      <td>26</td>\n",
       "    </tr>\n",
       "    <tr>\n",
       "      <th>56</th>\n",
       "      <td>71</td>\n",
       "      <td>85</td>\n",
       "    </tr>\n",
       "    <tr>\n",
       "      <th>57</th>\n",
       "      <td>73</td>\n",
       "      <td>17</td>\n",
       "    </tr>\n",
       "  </tbody>\n",
       "</table>\n",
       "</div>"
      ],
      "text/plain": [
       "    age  frequency\n",
       "0    14         49\n",
       "1    15         53\n",
       "2    16        236\n",
       "3    17        126\n",
       "4    18        806\n",
       "5    19        971\n",
       "6    20        910\n",
       "7    21        716\n",
       "8    22        944\n",
       "9    23       1071\n",
       "10   24        810\n",
       "11   25       1050\n",
       "12   26        980\n",
       "13   27       1263\n",
       "14   28       1113\n",
       "15   29       1340\n",
       "16   30        734\n",
       "17   31       1115\n",
       "18   32        796\n",
       "19   33        758\n",
       "20   34        869\n",
       "21   35        676\n",
       "22   36       1198\n",
       "23   37        522\n",
       "24   38       1006\n",
       "25   39        695\n",
       "26   40        723\n",
       "27   41        837\n",
       "28   42        978\n",
       "29   43        820\n",
       "30   44       1032\n",
       "31   45        690\n",
       "32   46        677\n",
       "33   47        831\n",
       "34   48       1026\n",
       "35   49       1060\n",
       "36   50        150\n",
       "37   51        188\n",
       "38   52        193\n",
       "39   53         47\n",
       "40   54         26\n",
       "41   55         62\n",
       "42   56         76\n",
       "43   57        136\n",
       "44   58        262\n",
       "45   59         74\n",
       "46   60        266\n",
       "47   61        226\n",
       "48   62        139\n",
       "49   63        183\n",
       "50   64        189\n",
       "51   65         79\n",
       "52   66        188\n",
       "53   67        128\n",
       "54   69        202\n",
       "55   70         26\n",
       "56   71         85\n",
       "57   73         17"
      ]
     },
     "execution_count": 212,
     "metadata": {},
     "output_type": "execute_result"
    }
   ],
   "source": [
    "d_series"
   ]
  },
  {
   "cell_type": "code",
   "execution_count": 213,
   "id": "cdf76c95",
   "metadata": {},
   "outputs": [
    {
     "data": {
      "image/png": "[encoded data removed]",
      "text/plain": [
       "<Figure size 640x480 with 1 Axes>"
      ]
     },
     "metadata": {},
     "output_type": "display_data"
    }
   ],
   "source": [
    "sns.histplot(data=df, x='age')\n",
    "plt.show()"
   ]
  },
  {
   "cell_type": "code",
   "execution_count": 214,
   "id": "0a86eab6",
   "metadata": {
    "scrolled": true
   },
   "outputs": [
    {
     "data": {
      "image/png": "[encoded data removed]",
      "text/plain": [
       "<Figure size 1000x500 with 1 Axes>"
      ]
     },
     "metadata": {},
     "output_type": "display_data"
    }
   ],
   "source": [
    "d_series.set_index('age').plot(kind='bar', figsize=(10, 5), color = 'green')\n",
    "#Добавление подписей к осям\n",
    "plt.xlabel(\"age\")\n",
    "plt.ylabel(\"frequency\")\n",
    "plt.xticks(rotation=90) # поворот надписей на оси X\n",
    "\n",
    "plt.show()"
   ]
  },
  {
   "cell_type": "code",
   "execution_count": 215,
   "id": "74d5e15f",
   "metadata": {},
   "outputs": [
    {
     "data": {
      "image/png": "[encoded data removed]",
      "text/plain": [
       "<Figure size 640x480 with 1 Axes>"
      ]
     },
     "metadata": {},
     "output_type": "display_data"
    }
   ],
   "source": [
    "# график полигона\n",
    "plt.plot(d_series.set_index('age'), marker='o', linestyle='-', color='purple')\n",
    "\n",
    "#подписи к осям\n",
    "plt.xlabel('age')\n",
    "plt.ylabel('frequency')\n",
    "\n",
    "#е график\n",
    "plt.show()"
   ]
  },
  {
   "cell_type": "code",
   "execution_count": 216,
   "id": "5e31010e",
   "metadata": {},
   "outputs": [
    {
     "name": "stderr",
     "output_type": "stream",
     "text": [
      "/Users/Vladislav/opt/anaconda3/lib/python3.9/site-packages/numpy/core/fromnumeric.py:3438: FutureWarning: In a future version, DataFrame.mean(axis=None) will return a scalar mean over the entire DataFrame. To retain the old behavior, use 'frame.mean(axis=0)' or just 'frame.mean()'\n",
      "  return mean(axis=axis, dtype=dtype, out=out, **kwargs)\n"
     ]
    },
    {
     "data": {
      "text/plain": [
       "age    35.373007\n",
       "dtype: float64"
      ]
     },
     "execution_count": 216,
     "metadata": {},
     "output_type": "execute_result"
    }
   ],
   "source": [
    "#выборочная средняя\n",
    "mean = np.mean(df)\n",
    "mean"
   ]
  },
  {
   "cell_type": "code",
   "execution_count": 217,
   "id": "052479c0",
   "metadata": {
    "scrolled": true
   },
   "outputs": [
    {
     "data": {
      "text/plain": [
       "age    144.916968\n",
       "dtype: float64"
      ]
     },
     "execution_count": 217,
     "metadata": {},
     "output_type": "execute_result"
    }
   ],
   "source": [
    "#дисперсия\n",
    "D = np.var(df)\n",
    "D"
   ]
  },
  {
   "cell_type": "code",
   "execution_count": 218,
   "id": "c52ddd5a",
   "metadata": {},
   "outputs": [
    {
     "data": {
      "text/plain": [
       "age    12.038146\n",
       "dtype: float64"
      ]
     },
     "execution_count": 218,
     "metadata": {},
     "output_type": "execute_result"
    }
   ],
   "source": [
    "# среднее квадр. откл\n",
    "std = np.std(df)\n",
    "std"
   ]
  },
  {
   "cell_type": "code",
   "execution_count": 219,
   "id": "9e70fb07",
   "metadata": {},
   "outputs": [
    {
     "data": {
      "text/plain": [
       "age    34.032013\n",
       "dtype: float64"
      ]
     },
     "execution_count": 219,
     "metadata": {},
     "output_type": "execute_result"
    }
   ],
   "source": [
    "# коэф. вариации\n",
    "cof_var = std / mean * 100\n",
    "cof_var"
   ]
  },
  {
   "cell_type": "code",
   "execution_count": 220,
   "id": "120723fe",
   "metadata": {},
   "outputs": [
    {
     "data": {
      "text/plain": [
       "29"
      ]
     },
     "execution_count": 220,
     "metadata": {},
     "output_type": "execute_result"
    }
   ],
   "source": [
    "# мода\n",
    "mode = int(df.mode().age)\n",
    "mode"
   ]
  },
  {
   "cell_type": "code",
   "execution_count": 221,
   "id": "1261094b",
   "metadata": {},
   "outputs": [
    {
     "data": {
      "text/plain": [
       "1340"
      ]
     },
     "execution_count": 221,
     "metadata": {},
     "output_type": "execute_result"
    }
   ],
   "source": [
    "# частота моды\n",
    "mode_freq = int(d_series[d_series.age == mode].frequency) \n",
    "mode_freq"
   ]
  },
  {
   "cell_type": "code",
   "execution_count": 222,
   "id": "396482a2",
   "metadata": {},
   "outputs": [
    {
     "data": {
      "text/plain": [
       "age    34.0\n",
       "dtype: float64"
      ]
     },
     "execution_count": 222,
     "metadata": {},
     "output_type": "execute_result"
    }
   ],
   "source": [
    "# медиана\n",
    "median = df.median()\n",
    "median"
   ]
  },
  {
   "cell_type": "code",
   "execution_count": 223,
   "id": "d8c8008c",
   "metadata": {},
   "outputs": [
    {
     "data": {
      "text/plain": [
       "age    14\n",
       "dtype: int64"
      ]
     },
     "execution_count": 223,
     "metadata": {},
     "output_type": "execute_result"
    }
   ],
   "source": [
    "# минимальное\n",
    "min = df.min()\n",
    "min"
   ]
  },
  {
   "cell_type": "code",
   "execution_count": 224,
   "id": "c1168b7c",
   "metadata": {},
   "outputs": [
    {
     "data": {
      "text/plain": [
       "age    73\n",
       "dtype: int64"
      ]
     },
     "execution_count": 224,
     "metadata": {},
     "output_type": "execute_result"
    }
   ],
   "source": [
    "# максимальное\n",
    "max = df.max()\n",
    "max"
   ]
  },
  {
   "cell_type": "code",
   "execution_count": 225,
   "id": "8f51679f",
   "metadata": {},
   "outputs": [
    {
     "data": {
      "text/plain": [
       "age    59\n",
       "dtype: int64"
      ]
     },
     "execution_count": 225,
     "metadata": {},
     "output_type": "execute_result"
    }
   ],
   "source": [
    "# размах\n",
    "delta = max - min\n",
    "delta"
   ]
  },
  {
   "cell_type": "markdown",
   "id": "86ba27fb",
   "metadata": {},
   "source": [
    "строим интервальный ряд"
   ]
  },
  {
   "cell_type": "code",
   "execution_count": 226,
   "id": "979c279b",
   "metadata": {},
   "outputs": [],
   "source": [
    "import math"
   ]
  },
  {
   "cell_type": "code",
   "execution_count": 227,
   "id": "bac9ca5d",
   "metadata": {},
   "outputs": [
    {
     "data": {
      "text/plain": [
       "6.705685181510988"
      ]
     },
     "execution_count": 227,
     "metadata": {},
     "output_type": "execute_result"
    }
   ],
   "source": [
    "# определяем число групп по формуле Стёрджесса\n",
    "\n",
    "m = 1 + 3.222 * math.log(delta, 10)\n",
    "m"
   ]
  },
  {
   "cell_type": "code",
   "execution_count": 228,
   "id": "05d1cb3a",
   "metadata": {},
   "outputs": [
    {
     "data": {
      "text/plain": [
       "8.428571428571429"
      ]
     },
     "execution_count": 228,
     "metadata": {},
     "output_type": "execute_result"
    }
   ],
   "source": [
    "# длина интервала (округлим m до 7)\n",
    "\n",
    "h = float(delta) / 7\n",
    "h"
   ]
  },
  {
   "cell_type": "code",
   "execution_count": 229,
   "id": "945d0bd0",
   "metadata": {},
   "outputs": [],
   "source": [
    "points = [round(14 + h * i) for i in range(8)]\n",
    "points1 = [round(14 + 9 * i) for i in range(8)]"
   ]
  },
  {
   "cell_type": "code",
   "execution_count": 230,
   "id": "c7223c07",
   "metadata": {},
   "outputs": [
    {
     "data": {
      "text/plain": [
       "[14, 23, 32, 41, 50, 59, 68, 77]"
      ]
     },
     "execution_count": 230,
     "metadata": {},
     "output_type": "execute_result"
    }
   ],
   "source": [
    "points1"
   ]
  },
  {
   "cell_type": "code",
   "execution_count": 231,
   "id": "4b39b996",
   "metadata": {},
   "outputs": [
    {
     "data": {
      "text/plain": [
       "[14, 22, 31, 39, 48, 56, 65, 73]"
      ]
     },
     "execution_count": 231,
     "metadata": {},
     "output_type": "execute_result"
    }
   ],
   "source": [
    "points"
   ]
  },
  {
   "cell_type": "code",
   "execution_count": 232,
   "id": "e4ba1ea8",
   "metadata": {},
   "outputs": [],
   "source": [
    "intervals1 = [str(points1[i]) + \"-\" + str(points1[i + 1])\n",
    "            for i in range(len(points1) - 1)]\n",
    "\n",
    "intervals = [str(points[i]) + \"-\" + str(points[i + 1])\n",
    "            for i in range(len(points) - 1)]"
   ]
  },
  {
   "cell_type": "code",
   "execution_count": 233,
   "id": "237282e6",
   "metadata": {},
   "outputs": [
    {
     "data": {
      "text/plain": [
       "['14-23', '23-32', '32-41', '41-50', '50-59', '59-68', '68-77']"
      ]
     },
     "execution_count": 233,
     "metadata": {},
     "output_type": "execute_result"
    }
   ],
   "source": [
    "intervals1"
   ]
  },
  {
   "cell_type": "code",
   "execution_count": 234,
   "id": "3930de5f",
   "metadata": {},
   "outputs": [
    {
     "data": {
      "text/plain": [
       "['14-22', '22-31', '31-39', '39-48', '48-56', '56-65', '65-73']"
      ]
     },
     "execution_count": 234,
     "metadata": {},
     "output_type": "execute_result"
    }
   ],
   "source": [
    "intervals"
   ]
  },
  {
   "cell_type": "code",
   "execution_count": 235,
   "id": "e0fd0f3f",
   "metadata": {},
   "outputs": [],
   "source": [
    "freq = []\n",
    "freq1 = []"
   ]
  },
  {
   "cell_type": "code",
   "execution_count": 236,
   "id": "18645c25",
   "metadata": {},
   "outputs": [
    {
     "data": {
      "text/plain": [
       "3867"
      ]
     },
     "execution_count": 236,
     "metadata": {},
     "output_type": "execute_result"
    }
   ],
   "source": [
    "int(df[df.age >= 14][df.age < 22].count())"
   ]
  },
  {
   "cell_type": "code",
   "execution_count": 237,
   "id": "8b4cf104",
   "metadata": {},
   "outputs": [
    {
     "name": "stderr",
     "output_type": "stream",
     "text": [
      "/var/folders/fs/fjkj927112n4rqd21dqgklrm0000gp/T/ipykernel_36324/396088751.py:3: UserWarning: Boolean Series key will be reindexed to match DataFrame index.\n",
      "  freq1.append(int(df[df.age >= points1[i]]\n",
      "/var/folders/fs/fjkj927112n4rqd21dqgklrm0000gp/T/ipykernel_36324/396088751.py:6: UserWarning: Boolean Series key will be reindexed to match DataFrame index.\n",
      "  freq1.append(int(df[df.age >= points1[i]]\n",
      "/var/folders/fs/fjkj927112n4rqd21dqgklrm0000gp/T/ipykernel_36324/396088751.py:11: UserWarning: Boolean Series key will be reindexed to match DataFrame index.\n",
      "  freq.append(int(df[df.age >= points[i]]\n",
      "/var/folders/fs/fjkj927112n4rqd21dqgklrm0000gp/T/ipykernel_36324/396088751.py:14: UserWarning: Boolean Series key will be reindexed to match DataFrame index.\n",
      "  freq.append(int(df[df.age >= points[i]]\n"
     ]
    }
   ],
   "source": [
    "for i in range(len(points1) - 1):\n",
    "    if i != len(points1) - 2:\n",
    "        freq1.append(int(df[df.age >= points1[i]]\n",
    "                        [df.age < points1[i + 1]].count()))\n",
    "    else:\n",
    "        freq1.append(int(df[df.age >= points1[i]]\n",
    "                        [df.age <= points1[i + 1]].count()))\n",
    "\n",
    "for i in range(len(points) - 1):\n",
    "    if i != len(points) - 2:\n",
    "        freq.append(int(df[df.age >= points[i]]\n",
    "                        [df.age < points[i + 1]].count()))\n",
    "    else:\n",
    "        freq.append(int(df[df.age >= points[i]]\n",
    "                        [df.age <= points[i + 1]].count()))"
   ]
  },
  {
   "cell_type": "code",
   "execution_count": 238,
   "id": "1b89163b",
   "metadata": {
    "scrolled": true
   },
   "outputs": [
    {
     "data": {
      "text/plain": [
       "[4811, 9476, 7243, 7951, 1140, 1472, 330]"
      ]
     },
     "execution_count": 238,
     "metadata": {},
     "output_type": "execute_result"
    }
   ],
   "source": [
    "freq1"
   ]
  },
  {
   "cell_type": "code",
   "execution_count": 239,
   "id": "29181df9",
   "metadata": {},
   "outputs": [
    {
     "data": {
      "text/plain": [
       "[3867, 9305, 6940, 7283, 2752, 1551, 725]"
      ]
     },
     "execution_count": 239,
     "metadata": {},
     "output_type": "execute_result"
    }
   ],
   "source": [
    "freq"
   ]
  },
  {
   "cell_type": "code",
   "execution_count": 240,
   "id": "e7c03e42",
   "metadata": {},
   "outputs": [
    {
     "data": {
      "text/plain": [
       "32423"
      ]
     },
     "execution_count": 240,
     "metadata": {},
     "output_type": "execute_result"
    }
   ],
   "source": [
    "summ = 0\n",
    "for n in freq1:\n",
    "    summ += n\n",
    "summ"
   ]
  },
  {
   "cell_type": "code",
   "execution_count": 241,
   "id": "8a3d96f5",
   "metadata": {},
   "outputs": [
    {
     "data": {
      "text/html": [
       "<div>\n",
       "<style scoped>\n",
       "    .dataframe tbody tr th:only-of-type {\n",
       "        vertical-align: middle;\n",
       "    }\n",
       "\n",
       "    .dataframe tbody tr th {\n",
       "        vertical-align: top;\n",
       "    }\n",
       "\n",
       "    .dataframe thead th {\n",
       "        text-align: right;\n",
       "    }\n",
       "</style>\n",
       "<table border=\"1\" class=\"dataframe\">\n",
       "  <thead>\n",
       "    <tr style=\"text-align: right;\">\n",
       "      <th></th>\n",
       "      <th>interval</th>\n",
       "      <th>frequency</th>\n",
       "    </tr>\n",
       "  </thead>\n",
       "  <tbody>\n",
       "    <tr>\n",
       "      <th>0</th>\n",
       "      <td>14-23</td>\n",
       "      <td>4811</td>\n",
       "    </tr>\n",
       "    <tr>\n",
       "      <th>1</th>\n",
       "      <td>23-32</td>\n",
       "      <td>9476</td>\n",
       "    </tr>\n",
       "    <tr>\n",
       "      <th>2</th>\n",
       "      <td>32-41</td>\n",
       "      <td>7243</td>\n",
       "    </tr>\n",
       "    <tr>\n",
       "      <th>3</th>\n",
       "      <td>41-50</td>\n",
       "      <td>7951</td>\n",
       "    </tr>\n",
       "    <tr>\n",
       "      <th>4</th>\n",
       "      <td>50-59</td>\n",
       "      <td>1140</td>\n",
       "    </tr>\n",
       "    <tr>\n",
       "      <th>5</th>\n",
       "      <td>59-68</td>\n",
       "      <td>1472</td>\n",
       "    </tr>\n",
       "    <tr>\n",
       "      <th>6</th>\n",
       "      <td>68-77</td>\n",
       "      <td>330</td>\n",
       "    </tr>\n",
       "  </tbody>\n",
       "</table>\n",
       "</div>"
      ],
      "text/plain": [
       "  interval  frequency\n",
       "0    14-23       4811\n",
       "1    23-32       9476\n",
       "2    32-41       7243\n",
       "3    41-50       7951\n",
       "4    50-59       1140\n",
       "5    59-68       1472\n",
       "6    68-77        330"
      ]
     },
     "execution_count": 241,
     "metadata": {},
     "output_type": "execute_result"
    }
   ],
   "source": [
    "i_series1 = pd.DataFrame({'interval': intervals1,\n",
    "                        'frequency': freq1})\n",
    "i_series = pd.DataFrame({'interval': intervals,\n",
    "                        'frequency': freq})\n",
    "i_series1"
   ]
  },
  {
   "cell_type": "code",
   "execution_count": 242,
   "id": "d531ded7",
   "metadata": {},
   "outputs": [
    {
     "data": {
      "text/html": [
       "<div>\n",
       "<style scoped>\n",
       "    .dataframe tbody tr th:only-of-type {\n",
       "        vertical-align: middle;\n",
       "    }\n",
       "\n",
       "    .dataframe tbody tr th {\n",
       "        vertical-align: top;\n",
       "    }\n",
       "\n",
       "    .dataframe thead th {\n",
       "        text-align: right;\n",
       "    }\n",
       "</style>\n",
       "<table border=\"1\" class=\"dataframe\">\n",
       "  <thead>\n",
       "    <tr style=\"text-align: right;\">\n",
       "      <th></th>\n",
       "      <th>interval</th>\n",
       "      <th>frequency</th>\n",
       "    </tr>\n",
       "  </thead>\n",
       "  <tbody>\n",
       "    <tr>\n",
       "      <th>0</th>\n",
       "      <td>14-22</td>\n",
       "      <td>3867</td>\n",
       "    </tr>\n",
       "    <tr>\n",
       "      <th>1</th>\n",
       "      <td>22-31</td>\n",
       "      <td>9305</td>\n",
       "    </tr>\n",
       "    <tr>\n",
       "      <th>2</th>\n",
       "      <td>31-39</td>\n",
       "      <td>6940</td>\n",
       "    </tr>\n",
       "    <tr>\n",
       "      <th>3</th>\n",
       "      <td>39-48</td>\n",
       "      <td>7283</td>\n",
       "    </tr>\n",
       "    <tr>\n",
       "      <th>4</th>\n",
       "      <td>48-56</td>\n",
       "      <td>2752</td>\n",
       "    </tr>\n",
       "    <tr>\n",
       "      <th>5</th>\n",
       "      <td>56-65</td>\n",
       "      <td>1551</td>\n",
       "    </tr>\n",
       "    <tr>\n",
       "      <th>6</th>\n",
       "      <td>65-73</td>\n",
       "      <td>725</td>\n",
       "    </tr>\n",
       "  </tbody>\n",
       "</table>\n",
       "</div>"
      ],
      "text/plain": [
       "  interval  frequency\n",
       "0    14-22       3867\n",
       "1    22-31       9305\n",
       "2    31-39       6940\n",
       "3    39-48       7283\n",
       "4    48-56       2752\n",
       "5    56-65       1551\n",
       "6    65-73        725"
      ]
     },
     "execution_count": 242,
     "metadata": {},
     "output_type": "execute_result"
    }
   ],
   "source": [
    "i_series"
   ]
  },
  {
   "cell_type": "code",
   "execution_count": 243,
   "id": "14a64592",
   "metadata": {},
   "outputs": [
    {
     "data": {
      "image/png": "[encoded data removed]",
      "text/plain": [
       "<Figure size 1000x500 with 1 Axes>"
      ]
     },
     "metadata": {},
     "output_type": "display_data"
    }
   ],
   "source": [
    "i_series1.set_index('interval').plot(kind='bar', figsize=(10, 5), color = 'green')\n",
    "#Добавление подписей к осям\n",
    "plt.xlabel(\"age\")\n",
    "plt.ylabel(\"frequency\")\n",
    "plt.xticks(rotation=0) # поворот надписей на оси X\n",
    "\n",
    "plt.show()"
   ]
  },
  {
   "cell_type": "code",
   "execution_count": 244,
   "id": "4f6af373",
   "metadata": {},
   "outputs": [
    {
     "data": {
      "text/plain": [
       "36"
      ]
     },
     "execution_count": 244,
     "metadata": {},
     "output_type": "execute_result"
    }
   ],
   "source": [
    "points[1] + points[0]"
   ]
  },
  {
   "cell_type": "code",
   "execution_count": 262,
   "id": "48293f14",
   "metadata": {
    "scrolled": true
   },
   "outputs": [
    {
     "data": {
      "text/plain": [
       "35.865388767233135"
      ]
     },
     "execution_count": 262,
     "metadata": {},
     "output_type": "execute_result"
    }
   ],
   "source": [
    "# выборочная средняя\n",
    "m1 = [(points[i] + points[i+1]) / 2 * freq[i] \n",
    "             for i in range(len(freq))] / i_series.frequency.sum()\n",
    "mean1=0\n",
    "for i in m1:\n",
    "    mean1 += i\n",
    "mean1"
   ]
  },
  {
   "cell_type": "code",
   "execution_count": 263,
   "id": "582b8564",
   "metadata": {},
   "outputs": [
    {
     "data": {
      "text/plain": [
       "152.1676044559291"
      ]
     },
     "execution_count": 263,
     "metadata": {},
     "output_type": "execute_result"
    }
   ],
   "source": [
    "# дисперсия\n",
    "d1 = [((points[i] + points[i + 1]) / 2 - mean1) ** 2 * freq[i] \n",
    "    for i in range(len(freq))] / i_series.frequency.sum()\n",
    "D1 = 0\n",
    "for i in d1:\n",
    "    D1 += i\n",
    "D1"
   ]
  },
  {
   "cell_type": "code",
   "execution_count": 247,
   "id": "0be2b19e",
   "metadata": {},
   "outputs": [
    {
     "data": {
      "text/plain": [
       "12.335623391459757"
      ]
     },
     "execution_count": 247,
     "metadata": {},
     "output_type": "execute_result"
    }
   ],
   "source": [
    "# среднее квадр. откл\n",
    "std1 = math.sqrt(D1)\n",
    "std1"
   ]
  },
  {
   "cell_type": "code",
   "execution_count": 248,
   "id": "464ca966",
   "metadata": {},
   "outputs": [
    {
     "data": {
      "text/plain": [
       "34.39422745845061"
      ]
     },
     "execution_count": 248,
     "metadata": {},
     "output_type": "execute_result"
    }
   ],
   "source": [
    "# коэф. вариации\n",
    "cof_var1 = std1 / mean1 * 100\n",
    "cof_var1"
   ]
  },
  {
   "cell_type": "code",
   "execution_count": 249,
   "id": "cbf38b1c",
   "metadata": {},
   "outputs": [
    {
     "data": {
      "text/plain": [
       "1    22-31\n",
       "Name: interval, dtype: object"
      ]
     },
     "execution_count": 249,
     "metadata": {},
     "output_type": "execute_result"
    }
   ],
   "source": [
    "# мода\n",
    "inter = i_series[i_series.frequency == i_series.frequency.max()].interval\n",
    "inter"
   ]
  },
  {
   "cell_type": "code",
   "execution_count": 250,
   "id": "ed728c18",
   "metadata": {},
   "outputs": [
    {
     "data": {
      "text/plain": [
       "28.2722029988466"
      ]
     },
     "execution_count": 250,
     "metadata": {},
     "output_type": "execute_result"
    }
   ],
   "source": [
    "mode1 = 22 + 9 * (freq[1] - freq[0]) / (freq[1] - freq[0] + freq[1] - freq[2])\n",
    "mode1"
   ]
  },
  {
   "cell_type": "code",
   "execution_count": 251,
   "id": "4f11caf3",
   "metadata": {},
   "outputs": [
    {
     "data": {
      "text/plain": [
       "1113"
      ]
     },
     "execution_count": 251,
     "metadata": {},
     "output_type": "execute_result"
    }
   ],
   "source": [
    "# частота моды\n",
    "freq1 = int(df[df.age == 28].count())\n",
    "freq1"
   ]
  },
  {
   "cell_type": "code",
   "execution_count": 252,
   "id": "0fbcdaa1",
   "metadata": {},
   "outputs": [
    {
     "name": "stdout",
     "output_type": "stream",
     "text": [
      "31-39 6940 20112\n"
     ]
    }
   ],
   "source": [
    "# медиана\n",
    "sum = 0\n",
    "i = 0\n",
    "while sum < int(df.count()) / 2:\n",
    "    sum += freq[i]\n",
    "    i += 1\n",
    "print(intervals[i - 1], freq[i - 1], sum)"
   ]
  },
  {
   "cell_type": "code",
   "execution_count": 253,
   "id": "ce944e6f",
   "metadata": {},
   "outputs": [
    {
     "data": {
      "text/plain": [
       "34.50374639769453"
      ]
     },
     "execution_count": 253,
     "metadata": {},
     "output_type": "execute_result"
    }
   ],
   "source": [
    "median1 = 31 + 8 * (int(df.count()) / 2 - (sum - freq[i - 1])) / freq[i - 1]\n",
    "median1"
   ]
  },
  {
   "cell_type": "code",
   "execution_count": 254,
   "id": "db13c152",
   "metadata": {},
   "outputs": [
    {
     "data": {
      "text/plain": [
       "14"
      ]
     },
     "execution_count": 254,
     "metadata": {},
     "output_type": "execute_result"
    }
   ],
   "source": [
    "# минимальное\n",
    "min1 = points[0]\n",
    "min1"
   ]
  },
  {
   "cell_type": "code",
   "execution_count": 255,
   "id": "fc476342",
   "metadata": {},
   "outputs": [
    {
     "data": {
      "text/plain": [
       "73"
      ]
     },
     "execution_count": 255,
     "metadata": {},
     "output_type": "execute_result"
    }
   ],
   "source": [
    "# максимальное\n",
    "max1 = points[-1]\n",
    "max1"
   ]
  },
  {
   "cell_type": "code",
   "execution_count": 256,
   "id": "09d59ebb",
   "metadata": {},
   "outputs": [
    {
     "data": {
      "text/plain": [
       "59"
      ]
     },
     "execution_count": 256,
     "metadata": {},
     "output_type": "execute_result"
    }
   ],
   "source": [
    "# размах\n",
    "delta1 = max1 - min1\n",
    "delta1"
   ]
  },
  {
   "cell_type": "code",
   "execution_count": null,
   "id": "51f1196a",
   "metadata": {},
   "outputs": [],
   "source": []
  },
  {
   "cell_type": "code",
   "execution_count": null,
   "id": "8271da9d",
   "metadata": {},
   "outputs": [],
   "source": []
  },
  {
   "cell_type": "code",
   "execution_count": null,
   "id": "bc6f1bad",
   "metadata": {},
   "outputs": [],
   "source": []
  }
 ],
 "metadata": {
  "kernelspec": {
   "display_name": "Python 3 (ipykernel)",
   "language": "python",
   "name": "python3"
  },
  "language_info": {
   "codemirror_mode": {
    "name": "ipython",
    "version": 3
   },
   "file_extension": ".py",
   "mimetype": "text/x-python",
   "name": "python",
   "nbconvert_exporter": "python",
   "pygments_lexer": "ipython3",
   "version": "3.9.13"
  }
 },
 "nbformat": 4,
 "nbformat_minor": 5
}
